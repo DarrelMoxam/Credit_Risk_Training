{
 "cells": [
  {
   "cell_type": "code",
   "execution_count": 2,
   "metadata": {
    "scrolled": false
   },
   "outputs": [
    {
     "name": "stdout",
     "output_type": "stream",
     "text": [
      "Collecting package metadata (repodata.json): done\n",
      "Solving environment: done\n",
      "\n",
      "# All requested packages already installed.\n",
      "\n",
      "\n",
      "Note: you may need to restart the kernel to use updated packages.\n"
     ]
    }
   ],
   "source": [
    "conda install -c conda-forge xgboost"
   ]
  },
  {
   "cell_type": "code",
   "execution_count": 3,
   "metadata": {},
   "outputs": [],
   "source": [
    "import pandas as pd\n",
    "import seaborn as sns\n",
    "pd.set_option('display.max_columns',200)\n",
    "import numpy as np\n",
    "import xgboost as xgb\n",
    "\n",
    "import sys\n",
    "if not sys.warnoptions:\n",
    "    import warnings\n",
    "    warnings.simplefilter(\"ignore\")"
   ]
  },
  {
   "cell_type": "code",
   "execution_count": 4,
   "metadata": {},
   "outputs": [
    {
     "data": {
      "text/html": [
       "<div>\n",
       "<style scoped>\n",
       "    .dataframe tbody tr th:only-of-type {\n",
       "        vertical-align: middle;\n",
       "    }\n",
       "\n",
       "    .dataframe tbody tr th {\n",
       "        vertical-align: top;\n",
       "    }\n",
       "\n",
       "    .dataframe thead th {\n",
       "        text-align: right;\n",
       "    }\n",
       "</style>\n",
       "<table border=\"1\" class=\"dataframe\">\n",
       "  <thead>\n",
       "    <tr style=\"text-align: right;\">\n",
       "      <th></th>\n",
       "      <th>checkingstatus</th>\n",
       "      <th>loanduration</th>\n",
       "      <th>credithistory</th>\n",
       "      <th>loanpurpose</th>\n",
       "      <th>loanamount</th>\n",
       "      <th>existingsavings</th>\n",
       "      <th>employmentduration</th>\n",
       "      <th>installmentpercent</th>\n",
       "      <th>sex</th>\n",
       "      <th>othersonloan</th>\n",
       "      <th>currentresidenceduration</th>\n",
       "      <th>ownsproperty</th>\n",
       "      <th>age</th>\n",
       "      <th>installmentplans</th>\n",
       "      <th>housing</th>\n",
       "      <th>existingcreditscount</th>\n",
       "      <th>job</th>\n",
       "      <th>dependents</th>\n",
       "      <th>telephone</th>\n",
       "      <th>foreignworker</th>\n",
       "      <th>risk</th>\n",
       "    </tr>\n",
       "  </thead>\n",
       "  <tbody>\n",
       "    <tr>\n",
       "      <th>0</th>\n",
       "      <td>less_0</td>\n",
       "      <td>9</td>\n",
       "      <td>prior_payments_delayed</td>\n",
       "      <td>furniture</td>\n",
       "      <td>2219</td>\n",
       "      <td>less_100</td>\n",
       "      <td>1_to_4</td>\n",
       "      <td>1</td>\n",
       "      <td>female</td>\n",
       "      <td>none</td>\n",
       "      <td>1</td>\n",
       "      <td>savings_insurance</td>\n",
       "      <td>29</td>\n",
       "      <td>stores</td>\n",
       "      <td>own</td>\n",
       "      <td>2</td>\n",
       "      <td>skilled</td>\n",
       "      <td>1</td>\n",
       "      <td>none</td>\n",
       "      <td>yes</td>\n",
       "      <td>No Risk</td>\n",
       "    </tr>\n",
       "    <tr>\n",
       "      <th>1</th>\n",
       "      <td>less_0</td>\n",
       "      <td>35</td>\n",
       "      <td>credits_paid_to_date</td>\n",
       "      <td>car_used</td>\n",
       "      <td>389</td>\n",
       "      <td>100_to_500</td>\n",
       "      <td>4_to_7</td>\n",
       "      <td>3</td>\n",
       "      <td>female</td>\n",
       "      <td>none</td>\n",
       "      <td>2</td>\n",
       "      <td>car_other</td>\n",
       "      <td>40</td>\n",
       "      <td>stores</td>\n",
       "      <td>rent</td>\n",
       "      <td>1</td>\n",
       "      <td>unskilled</td>\n",
       "      <td>1</td>\n",
       "      <td>none</td>\n",
       "      <td>yes</td>\n",
       "      <td>Risk</td>\n",
       "    </tr>\n",
       "    <tr>\n",
       "      <th>2</th>\n",
       "      <td>0_to_200</td>\n",
       "      <td>19</td>\n",
       "      <td>credits_paid_to_date</td>\n",
       "      <td>repairs</td>\n",
       "      <td>2083</td>\n",
       "      <td>500_to_1000</td>\n",
       "      <td>less_1</td>\n",
       "      <td>3</td>\n",
       "      <td>female</td>\n",
       "      <td>none</td>\n",
       "      <td>2</td>\n",
       "      <td>real_estate</td>\n",
       "      <td>35</td>\n",
       "      <td>none</td>\n",
       "      <td>own</td>\n",
       "      <td>1</td>\n",
       "      <td>skilled</td>\n",
       "      <td>1</td>\n",
       "      <td>none</td>\n",
       "      <td>yes</td>\n",
       "      <td>No Risk</td>\n",
       "    </tr>\n",
       "    <tr>\n",
       "      <th>3</th>\n",
       "      <td>no_checking</td>\n",
       "      <td>36</td>\n",
       "      <td>prior_payments_delayed</td>\n",
       "      <td>appliances</td>\n",
       "      <td>5927</td>\n",
       "      <td>unknown</td>\n",
       "      <td>greater_7</td>\n",
       "      <td>4</td>\n",
       "      <td>male</td>\n",
       "      <td>co-applicant</td>\n",
       "      <td>3</td>\n",
       "      <td>savings_insurance</td>\n",
       "      <td>47</td>\n",
       "      <td>none</td>\n",
       "      <td>own</td>\n",
       "      <td>2</td>\n",
       "      <td>skilled</td>\n",
       "      <td>1</td>\n",
       "      <td>none</td>\n",
       "      <td>yes</td>\n",
       "      <td>Risk</td>\n",
       "    </tr>\n",
       "    <tr>\n",
       "      <th>4</th>\n",
       "      <td>no_checking</td>\n",
       "      <td>28</td>\n",
       "      <td>outstanding_credit</td>\n",
       "      <td>appliances</td>\n",
       "      <td>4053</td>\n",
       "      <td>unknown</td>\n",
       "      <td>greater_7</td>\n",
       "      <td>5</td>\n",
       "      <td>male</td>\n",
       "      <td>none</td>\n",
       "      <td>3</td>\n",
       "      <td>unknown</td>\n",
       "      <td>45</td>\n",
       "      <td>none</td>\n",
       "      <td>own</td>\n",
       "      <td>2</td>\n",
       "      <td>skilled</td>\n",
       "      <td>1</td>\n",
       "      <td>none</td>\n",
       "      <td>yes</td>\n",
       "      <td>Risk</td>\n",
       "    </tr>\n",
       "  </tbody>\n",
       "</table>\n",
       "</div>"
      ],
      "text/plain": [
       "  checkingstatus  loanduration           credithistory loanpurpose  \\\n",
       "0         less_0             9  prior_payments_delayed   furniture   \n",
       "1         less_0            35    credits_paid_to_date    car_used   \n",
       "2       0_to_200            19    credits_paid_to_date     repairs   \n",
       "3    no_checking            36  prior_payments_delayed  appliances   \n",
       "4    no_checking            28      outstanding_credit  appliances   \n",
       "\n",
       "   loanamount existingsavings employmentduration  installmentpercent     sex  \\\n",
       "0        2219        less_100             1_to_4                   1  female   \n",
       "1         389      100_to_500             4_to_7                   3  female   \n",
       "2        2083     500_to_1000             less_1                   3  female   \n",
       "3        5927         unknown          greater_7                   4    male   \n",
       "4        4053         unknown          greater_7                   5    male   \n",
       "\n",
       "   othersonloan  currentresidenceduration       ownsproperty  age  \\\n",
       "0          none                         1  savings_insurance   29   \n",
       "1          none                         2          car_other   40   \n",
       "2          none                         2        real_estate   35   \n",
       "3  co-applicant                         3  savings_insurance   47   \n",
       "4          none                         3            unknown   45   \n",
       "\n",
       "  installmentplans housing  existingcreditscount        job  dependents  \\\n",
       "0           stores     own                     2    skilled           1   \n",
       "1           stores    rent                     1  unskilled           1   \n",
       "2             none     own                     1    skilled           1   \n",
       "3             none     own                     2    skilled           1   \n",
       "4             none     own                     2    skilled           1   \n",
       "\n",
       "  telephone foreignworker     risk  \n",
       "0      none           yes  No Risk  \n",
       "1      none           yes     Risk  \n",
       "2      none           yes  No Risk  \n",
       "3      none           yes     Risk  \n",
       "4      none           yes     Risk  "
      ]
     },
     "execution_count": 4,
     "metadata": {},
     "output_type": "execute_result"
    }
   ],
   "source": [
    "df_data_1 = pd.read_csv(\"credit_risk_training_redacted.csv\")\n",
    "df_data_1.head()"
   ]
  },
  {
   "cell_type": "code",
   "execution_count": 5,
   "metadata": {},
   "outputs": [],
   "source": [
    "df = df_data_1"
   ]
  },
  {
   "cell_type": "markdown",
   "metadata": {},
   "source": [
    "## Perform basic EDA to have a look at the data"
   ]
  },
  {
   "cell_type": "code",
   "execution_count": 6,
   "metadata": {},
   "outputs": [
    {
     "data": {
      "text/plain": [
       "Index(['checkingstatus', 'loanduration', 'credithistory', 'loanpurpose',\n",
       "       'loanamount', 'existingsavings', 'employmentduration',\n",
       "       'installmentpercent', 'sex', 'othersonloan', 'currentresidenceduration',\n",
       "       'ownsproperty', 'age', 'installmentplans', 'housing',\n",
       "       'existingcreditscount', 'job', 'dependents', 'telephone',\n",
       "       'foreignworker', 'risk'],\n",
       "      dtype='object')"
      ]
     },
     "execution_count": 6,
     "metadata": {},
     "output_type": "execute_result"
    }
   ],
   "source": [
    "df.columns"
   ]
  },
  {
   "cell_type": "code",
   "execution_count": 7,
   "metadata": {},
   "outputs": [
    {
     "data": {
      "text/plain": [
       "(5000, 21)"
      ]
     },
     "execution_count": 7,
     "metadata": {},
     "output_type": "execute_result"
    }
   ],
   "source": [
    "df.shape"
   ]
  },
  {
   "cell_type": "code",
   "execution_count": 8,
   "metadata": {},
   "outputs": [
    {
     "data": {
      "text/html": [
       "<div>\n",
       "<style scoped>\n",
       "    .dataframe tbody tr th:only-of-type {\n",
       "        vertical-align: middle;\n",
       "    }\n",
       "\n",
       "    .dataframe tbody tr th {\n",
       "        vertical-align: top;\n",
       "    }\n",
       "\n",
       "    .dataframe thead th {\n",
       "        text-align: right;\n",
       "    }\n",
       "</style>\n",
       "<table border=\"1\" class=\"dataframe\">\n",
       "  <thead>\n",
       "    <tr style=\"text-align: right;\">\n",
       "      <th></th>\n",
       "      <th>loanduration</th>\n",
       "      <th>loanamount</th>\n",
       "      <th>installmentpercent</th>\n",
       "      <th>currentresidenceduration</th>\n",
       "      <th>age</th>\n",
       "      <th>existingcreditscount</th>\n",
       "      <th>dependents</th>\n",
       "    </tr>\n",
       "  </thead>\n",
       "  <tbody>\n",
       "    <tr>\n",
       "      <th>count</th>\n",
       "      <td>5000.000000</td>\n",
       "      <td>5000.000000</td>\n",
       "      <td>5000.000000</td>\n",
       "      <td>5000.000000</td>\n",
       "      <td>5000.000000</td>\n",
       "      <td>5000.000000</td>\n",
       "      <td>5000.000000</td>\n",
       "    </tr>\n",
       "    <tr>\n",
       "      <th>mean</th>\n",
       "      <td>21.393000</td>\n",
       "      <td>3480.145000</td>\n",
       "      <td>2.982400</td>\n",
       "      <td>2.854200</td>\n",
       "      <td>35.932400</td>\n",
       "      <td>1.465800</td>\n",
       "      <td>1.164600</td>\n",
       "    </tr>\n",
       "    <tr>\n",
       "      <th>std</th>\n",
       "      <td>11.162843</td>\n",
       "      <td>2488.232783</td>\n",
       "      <td>1.127096</td>\n",
       "      <td>1.115702</td>\n",
       "      <td>10.648536</td>\n",
       "      <td>0.565415</td>\n",
       "      <td>0.370856</td>\n",
       "    </tr>\n",
       "    <tr>\n",
       "      <th>min</th>\n",
       "      <td>4.000000</td>\n",
       "      <td>250.000000</td>\n",
       "      <td>1.000000</td>\n",
       "      <td>1.000000</td>\n",
       "      <td>19.000000</td>\n",
       "      <td>1.000000</td>\n",
       "      <td>1.000000</td>\n",
       "    </tr>\n",
       "    <tr>\n",
       "      <th>25%</th>\n",
       "      <td>13.000000</td>\n",
       "      <td>1326.750000</td>\n",
       "      <td>2.000000</td>\n",
       "      <td>2.000000</td>\n",
       "      <td>28.000000</td>\n",
       "      <td>1.000000</td>\n",
       "      <td>1.000000</td>\n",
       "    </tr>\n",
       "    <tr>\n",
       "      <th>50%</th>\n",
       "      <td>21.000000</td>\n",
       "      <td>3238.500000</td>\n",
       "      <td>3.000000</td>\n",
       "      <td>3.000000</td>\n",
       "      <td>36.000000</td>\n",
       "      <td>1.000000</td>\n",
       "      <td>1.000000</td>\n",
       "    </tr>\n",
       "    <tr>\n",
       "      <th>75%</th>\n",
       "      <td>29.000000</td>\n",
       "      <td>5355.000000</td>\n",
       "      <td>4.000000</td>\n",
       "      <td>4.000000</td>\n",
       "      <td>44.000000</td>\n",
       "      <td>2.000000</td>\n",
       "      <td>1.000000</td>\n",
       "    </tr>\n",
       "    <tr>\n",
       "      <th>max</th>\n",
       "      <td>64.000000</td>\n",
       "      <td>11676.000000</td>\n",
       "      <td>6.000000</td>\n",
       "      <td>6.000000</td>\n",
       "      <td>74.000000</td>\n",
       "      <td>4.000000</td>\n",
       "      <td>2.000000</td>\n",
       "    </tr>\n",
       "  </tbody>\n",
       "</table>\n",
       "</div>"
      ],
      "text/plain": [
       "       loanduration    loanamount  installmentpercent  \\\n",
       "count   5000.000000   5000.000000         5000.000000   \n",
       "mean      21.393000   3480.145000            2.982400   \n",
       "std       11.162843   2488.232783            1.127096   \n",
       "min        4.000000    250.000000            1.000000   \n",
       "25%       13.000000   1326.750000            2.000000   \n",
       "50%       21.000000   3238.500000            3.000000   \n",
       "75%       29.000000   5355.000000            4.000000   \n",
       "max       64.000000  11676.000000            6.000000   \n",
       "\n",
       "       currentresidenceduration          age  existingcreditscount  \\\n",
       "count               5000.000000  5000.000000           5000.000000   \n",
       "mean                   2.854200    35.932400              1.465800   \n",
       "std                    1.115702    10.648536              0.565415   \n",
       "min                    1.000000    19.000000              1.000000   \n",
       "25%                    2.000000    28.000000              1.000000   \n",
       "50%                    3.000000    36.000000              1.000000   \n",
       "75%                    4.000000    44.000000              2.000000   \n",
       "max                    6.000000    74.000000              4.000000   \n",
       "\n",
       "        dependents  \n",
       "count  5000.000000  \n",
       "mean      1.164600  \n",
       "std       0.370856  \n",
       "min       1.000000  \n",
       "25%       1.000000  \n",
       "50%       1.000000  \n",
       "75%       1.000000  \n",
       "max       2.000000  "
      ]
     },
     "execution_count": 8,
     "metadata": {},
     "output_type": "execute_result"
    }
   ],
   "source": [
    "df.describe()"
   ]
  },
  {
   "cell_type": "code",
   "execution_count": 9,
   "metadata": {
    "scrolled": false
   },
   "outputs": [
    {
     "data": {
      "text/plain": [
       "checkingstatus                 4\n",
       "loanduration                  59\n",
       "credithistory                  5\n",
       "loanpurpose                   11\n",
       "loanamount                  3354\n",
       "existingsavings                5\n",
       "employmentduration             5\n",
       "installmentpercent             6\n",
       "sex                            2\n",
       "othersonloan                   3\n",
       "currentresidenceduration       6\n",
       "ownsproperty                   4\n",
       "age                           53\n",
       "installmentplans               3\n",
       "housing                        3\n",
       "existingcreditscount           4\n",
       "job                            4\n",
       "dependents                     2\n",
       "telephone                      2\n",
       "foreignworker                  2\n",
       "risk                           2\n",
       "dtype: int64"
      ]
     },
     "execution_count": 9,
     "metadata": {},
     "output_type": "execute_result"
    }
   ],
   "source": [
    "df.nunique()"
   ]
  },
  {
   "cell_type": "code",
   "execution_count": 10,
   "metadata": {
    "scrolled": true
   },
   "outputs": [
    {
     "data": {
      "text/plain": [
       "checkingstatus              0\n",
       "loanduration                0\n",
       "credithistory               0\n",
       "loanpurpose                 0\n",
       "loanamount                  0\n",
       "existingsavings             0\n",
       "employmentduration          0\n",
       "installmentpercent          0\n",
       "sex                         0\n",
       "othersonloan                0\n",
       "currentresidenceduration    0\n",
       "ownsproperty                0\n",
       "age                         0\n",
       "installmentplans            0\n",
       "housing                     0\n",
       "existingcreditscount        0\n",
       "job                         0\n",
       "dependents                  0\n",
       "telephone                   0\n",
       "foreignworker               0\n",
       "risk                        0\n",
       "dtype: int64"
      ]
     },
     "execution_count": 10,
     "metadata": {},
     "output_type": "execute_result"
    }
   ],
   "source": [
    "#checking for nulls\n",
    "df.isna().sum()"
   ]
  },
  {
   "cell_type": "code",
   "execution_count": 11,
   "metadata": {},
   "outputs": [
    {
     "data": {
      "text/plain": [
       "18"
      ]
     },
     "execution_count": 11,
     "metadata": {},
     "output_type": "execute_result"
    }
   ],
   "source": [
    "#checking for duplicates\n",
    "df.duplicated().sum()\n",
    "# results  = 18 duplicates"
   ]
  },
  {
   "cell_type": "code",
   "execution_count": 12,
   "metadata": {
    "scrolled": true
   },
   "outputs": [
    {
     "data": {
      "text/html": [
       "<div>\n",
       "<style scoped>\n",
       "    .dataframe tbody tr th:only-of-type {\n",
       "        vertical-align: middle;\n",
       "    }\n",
       "\n",
       "    .dataframe tbody tr th {\n",
       "        vertical-align: top;\n",
       "    }\n",
       "\n",
       "    .dataframe thead th {\n",
       "        text-align: right;\n",
       "    }\n",
       "</style>\n",
       "<table border=\"1\" class=\"dataframe\">\n",
       "  <thead>\n",
       "    <tr style=\"text-align: right;\">\n",
       "      <th></th>\n",
       "      <th>checkingstatus</th>\n",
       "      <th>loanduration</th>\n",
       "      <th>credithistory</th>\n",
       "      <th>loanpurpose</th>\n",
       "      <th>loanamount</th>\n",
       "      <th>existingsavings</th>\n",
       "      <th>employmentduration</th>\n",
       "      <th>installmentpercent</th>\n",
       "      <th>sex</th>\n",
       "      <th>othersonloan</th>\n",
       "      <th>currentresidenceduration</th>\n",
       "      <th>ownsproperty</th>\n",
       "      <th>age</th>\n",
       "      <th>installmentplans</th>\n",
       "      <th>housing</th>\n",
       "      <th>existingcreditscount</th>\n",
       "      <th>job</th>\n",
       "      <th>dependents</th>\n",
       "      <th>telephone</th>\n",
       "      <th>foreignworker</th>\n",
       "      <th>risk</th>\n",
       "    </tr>\n",
       "  </thead>\n",
       "  <tbody>\n",
       "    <tr>\n",
       "      <th>723</th>\n",
       "      <td>less_0</td>\n",
       "      <td>4</td>\n",
       "      <td>all_credits_paid_back</td>\n",
       "      <td>car_new</td>\n",
       "      <td>250</td>\n",
       "      <td>less_100</td>\n",
       "      <td>unemployed</td>\n",
       "      <td>1</td>\n",
       "      <td>female</td>\n",
       "      <td>none</td>\n",
       "      <td>2</td>\n",
       "      <td>real_estate</td>\n",
       "      <td>19</td>\n",
       "      <td>none</td>\n",
       "      <td>rent</td>\n",
       "      <td>1</td>\n",
       "      <td>skilled</td>\n",
       "      <td>1</td>\n",
       "      <td>none</td>\n",
       "      <td>yes</td>\n",
       "      <td>No Risk</td>\n",
       "    </tr>\n",
       "    <tr>\n",
       "      <th>808</th>\n",
       "      <td>less_0</td>\n",
       "      <td>4</td>\n",
       "      <td>all_credits_paid_back</td>\n",
       "      <td>car_new</td>\n",
       "      <td>250</td>\n",
       "      <td>less_100</td>\n",
       "      <td>unemployed</td>\n",
       "      <td>1</td>\n",
       "      <td>female</td>\n",
       "      <td>none</td>\n",
       "      <td>2</td>\n",
       "      <td>real_estate</td>\n",
       "      <td>19</td>\n",
       "      <td>none</td>\n",
       "      <td>rent</td>\n",
       "      <td>1</td>\n",
       "      <td>skilled</td>\n",
       "      <td>1</td>\n",
       "      <td>none</td>\n",
       "      <td>yes</td>\n",
       "      <td>No Risk</td>\n",
       "    </tr>\n",
       "    <tr>\n",
       "      <th>1854</th>\n",
       "      <td>less_0</td>\n",
       "      <td>4</td>\n",
       "      <td>all_credits_paid_back</td>\n",
       "      <td>car_new</td>\n",
       "      <td>250</td>\n",
       "      <td>less_100</td>\n",
       "      <td>unemployed</td>\n",
       "      <td>1</td>\n",
       "      <td>male</td>\n",
       "      <td>none</td>\n",
       "      <td>2</td>\n",
       "      <td>real_estate</td>\n",
       "      <td>19</td>\n",
       "      <td>stores</td>\n",
       "      <td>rent</td>\n",
       "      <td>1</td>\n",
       "      <td>skilled</td>\n",
       "      <td>1</td>\n",
       "      <td>none</td>\n",
       "      <td>yes</td>\n",
       "      <td>No Risk</td>\n",
       "    </tr>\n",
       "    <tr>\n",
       "      <th>1946</th>\n",
       "      <td>less_0</td>\n",
       "      <td>4</td>\n",
       "      <td>all_credits_paid_back</td>\n",
       "      <td>car_new</td>\n",
       "      <td>250</td>\n",
       "      <td>less_100</td>\n",
       "      <td>unemployed</td>\n",
       "      <td>1</td>\n",
       "      <td>female</td>\n",
       "      <td>none</td>\n",
       "      <td>2</td>\n",
       "      <td>real_estate</td>\n",
       "      <td>19</td>\n",
       "      <td>none</td>\n",
       "      <td>rent</td>\n",
       "      <td>1</td>\n",
       "      <td>skilled</td>\n",
       "      <td>1</td>\n",
       "      <td>none</td>\n",
       "      <td>yes</td>\n",
       "      <td>No Risk</td>\n",
       "    </tr>\n",
       "    <tr>\n",
       "      <th>2119</th>\n",
       "      <td>less_0</td>\n",
       "      <td>4</td>\n",
       "      <td>all_credits_paid_back</td>\n",
       "      <td>car_new</td>\n",
       "      <td>250</td>\n",
       "      <td>less_100</td>\n",
       "      <td>unemployed</td>\n",
       "      <td>1</td>\n",
       "      <td>female</td>\n",
       "      <td>none</td>\n",
       "      <td>2</td>\n",
       "      <td>real_estate</td>\n",
       "      <td>19</td>\n",
       "      <td>none</td>\n",
       "      <td>rent</td>\n",
       "      <td>1</td>\n",
       "      <td>skilled</td>\n",
       "      <td>1</td>\n",
       "      <td>none</td>\n",
       "      <td>yes</td>\n",
       "      <td>No Risk</td>\n",
       "    </tr>\n",
       "    <tr>\n",
       "      <th>2214</th>\n",
       "      <td>less_0</td>\n",
       "      <td>4</td>\n",
       "      <td>all_credits_paid_back</td>\n",
       "      <td>car_new</td>\n",
       "      <td>250</td>\n",
       "      <td>less_100</td>\n",
       "      <td>unemployed</td>\n",
       "      <td>1</td>\n",
       "      <td>female</td>\n",
       "      <td>none</td>\n",
       "      <td>2</td>\n",
       "      <td>real_estate</td>\n",
       "      <td>19</td>\n",
       "      <td>none</td>\n",
       "      <td>rent</td>\n",
       "      <td>1</td>\n",
       "      <td>skilled</td>\n",
       "      <td>1</td>\n",
       "      <td>none</td>\n",
       "      <td>yes</td>\n",
       "      <td>No Risk</td>\n",
       "    </tr>\n",
       "    <tr>\n",
       "      <th>2933</th>\n",
       "      <td>less_0</td>\n",
       "      <td>4</td>\n",
       "      <td>no_credits</td>\n",
       "      <td>car_new</td>\n",
       "      <td>250</td>\n",
       "      <td>less_100</td>\n",
       "      <td>less_1</td>\n",
       "      <td>1</td>\n",
       "      <td>female</td>\n",
       "      <td>none</td>\n",
       "      <td>1</td>\n",
       "      <td>real_estate</td>\n",
       "      <td>19</td>\n",
       "      <td>none</td>\n",
       "      <td>rent</td>\n",
       "      <td>1</td>\n",
       "      <td>skilled</td>\n",
       "      <td>1</td>\n",
       "      <td>none</td>\n",
       "      <td>yes</td>\n",
       "      <td>No Risk</td>\n",
       "    </tr>\n",
       "    <tr>\n",
       "      <th>3062</th>\n",
       "      <td>less_0</td>\n",
       "      <td>4</td>\n",
       "      <td>all_credits_paid_back</td>\n",
       "      <td>car_new</td>\n",
       "      <td>250</td>\n",
       "      <td>less_100</td>\n",
       "      <td>unemployed</td>\n",
       "      <td>1</td>\n",
       "      <td>female</td>\n",
       "      <td>none</td>\n",
       "      <td>1</td>\n",
       "      <td>real_estate</td>\n",
       "      <td>19</td>\n",
       "      <td>none</td>\n",
       "      <td>rent</td>\n",
       "      <td>1</td>\n",
       "      <td>skilled</td>\n",
       "      <td>1</td>\n",
       "      <td>none</td>\n",
       "      <td>yes</td>\n",
       "      <td>No Risk</td>\n",
       "    </tr>\n",
       "    <tr>\n",
       "      <th>3080</th>\n",
       "      <td>less_0</td>\n",
       "      <td>4</td>\n",
       "      <td>all_credits_paid_back</td>\n",
       "      <td>car_new</td>\n",
       "      <td>250</td>\n",
       "      <td>less_100</td>\n",
       "      <td>unemployed</td>\n",
       "      <td>1</td>\n",
       "      <td>male</td>\n",
       "      <td>none</td>\n",
       "      <td>1</td>\n",
       "      <td>real_estate</td>\n",
       "      <td>19</td>\n",
       "      <td>stores</td>\n",
       "      <td>rent</td>\n",
       "      <td>1</td>\n",
       "      <td>unskilled</td>\n",
       "      <td>1</td>\n",
       "      <td>none</td>\n",
       "      <td>yes</td>\n",
       "      <td>No Risk</td>\n",
       "    </tr>\n",
       "    <tr>\n",
       "      <th>3081</th>\n",
       "      <td>less_0</td>\n",
       "      <td>4</td>\n",
       "      <td>all_credits_paid_back</td>\n",
       "      <td>car_new</td>\n",
       "      <td>250</td>\n",
       "      <td>less_100</td>\n",
       "      <td>unemployed</td>\n",
       "      <td>1</td>\n",
       "      <td>female</td>\n",
       "      <td>none</td>\n",
       "      <td>2</td>\n",
       "      <td>real_estate</td>\n",
       "      <td>19</td>\n",
       "      <td>none</td>\n",
       "      <td>rent</td>\n",
       "      <td>1</td>\n",
       "      <td>skilled</td>\n",
       "      <td>1</td>\n",
       "      <td>none</td>\n",
       "      <td>yes</td>\n",
       "      <td>No Risk</td>\n",
       "    </tr>\n",
       "    <tr>\n",
       "      <th>3140</th>\n",
       "      <td>less_0</td>\n",
       "      <td>4</td>\n",
       "      <td>all_credits_paid_back</td>\n",
       "      <td>car_new</td>\n",
       "      <td>250</td>\n",
       "      <td>less_100</td>\n",
       "      <td>unemployed</td>\n",
       "      <td>1</td>\n",
       "      <td>male</td>\n",
       "      <td>none</td>\n",
       "      <td>1</td>\n",
       "      <td>real_estate</td>\n",
       "      <td>19</td>\n",
       "      <td>stores</td>\n",
       "      <td>rent</td>\n",
       "      <td>1</td>\n",
       "      <td>skilled</td>\n",
       "      <td>1</td>\n",
       "      <td>none</td>\n",
       "      <td>yes</td>\n",
       "      <td>No Risk</td>\n",
       "    </tr>\n",
       "    <tr>\n",
       "      <th>3236</th>\n",
       "      <td>less_0</td>\n",
       "      <td>4</td>\n",
       "      <td>all_credits_paid_back</td>\n",
       "      <td>car_new</td>\n",
       "      <td>250</td>\n",
       "      <td>less_100</td>\n",
       "      <td>unemployed</td>\n",
       "      <td>1</td>\n",
       "      <td>female</td>\n",
       "      <td>none</td>\n",
       "      <td>1</td>\n",
       "      <td>real_estate</td>\n",
       "      <td>19</td>\n",
       "      <td>none</td>\n",
       "      <td>rent</td>\n",
       "      <td>1</td>\n",
       "      <td>skilled</td>\n",
       "      <td>1</td>\n",
       "      <td>none</td>\n",
       "      <td>yes</td>\n",
       "      <td>No Risk</td>\n",
       "    </tr>\n",
       "    <tr>\n",
       "      <th>3248</th>\n",
       "      <td>less_0</td>\n",
       "      <td>4</td>\n",
       "      <td>all_credits_paid_back</td>\n",
       "      <td>car_new</td>\n",
       "      <td>250</td>\n",
       "      <td>less_100</td>\n",
       "      <td>unemployed</td>\n",
       "      <td>1</td>\n",
       "      <td>male</td>\n",
       "      <td>none</td>\n",
       "      <td>2</td>\n",
       "      <td>real_estate</td>\n",
       "      <td>19</td>\n",
       "      <td>stores</td>\n",
       "      <td>rent</td>\n",
       "      <td>1</td>\n",
       "      <td>skilled</td>\n",
       "      <td>1</td>\n",
       "      <td>none</td>\n",
       "      <td>yes</td>\n",
       "      <td>No Risk</td>\n",
       "    </tr>\n",
       "    <tr>\n",
       "      <th>3314</th>\n",
       "      <td>less_0</td>\n",
       "      <td>4</td>\n",
       "      <td>no_credits</td>\n",
       "      <td>car_new</td>\n",
       "      <td>250</td>\n",
       "      <td>less_100</td>\n",
       "      <td>unemployed</td>\n",
       "      <td>1</td>\n",
       "      <td>male</td>\n",
       "      <td>none</td>\n",
       "      <td>2</td>\n",
       "      <td>real_estate</td>\n",
       "      <td>19</td>\n",
       "      <td>none</td>\n",
       "      <td>rent</td>\n",
       "      <td>1</td>\n",
       "      <td>skilled</td>\n",
       "      <td>1</td>\n",
       "      <td>none</td>\n",
       "      <td>yes</td>\n",
       "      <td>No Risk</td>\n",
       "    </tr>\n",
       "    <tr>\n",
       "      <th>3497</th>\n",
       "      <td>less_0</td>\n",
       "      <td>4</td>\n",
       "      <td>all_credits_paid_back</td>\n",
       "      <td>car_new</td>\n",
       "      <td>250</td>\n",
       "      <td>less_100</td>\n",
       "      <td>unemployed</td>\n",
       "      <td>1</td>\n",
       "      <td>female</td>\n",
       "      <td>none</td>\n",
       "      <td>1</td>\n",
       "      <td>real_estate</td>\n",
       "      <td>19</td>\n",
       "      <td>none</td>\n",
       "      <td>rent</td>\n",
       "      <td>1</td>\n",
       "      <td>skilled</td>\n",
       "      <td>1</td>\n",
       "      <td>none</td>\n",
       "      <td>yes</td>\n",
       "      <td>No Risk</td>\n",
       "    </tr>\n",
       "    <tr>\n",
       "      <th>3870</th>\n",
       "      <td>less_0</td>\n",
       "      <td>4</td>\n",
       "      <td>all_credits_paid_back</td>\n",
       "      <td>car_new</td>\n",
       "      <td>250</td>\n",
       "      <td>less_100</td>\n",
       "      <td>unemployed</td>\n",
       "      <td>1</td>\n",
       "      <td>male</td>\n",
       "      <td>none</td>\n",
       "      <td>1</td>\n",
       "      <td>real_estate</td>\n",
       "      <td>19</td>\n",
       "      <td>stores</td>\n",
       "      <td>rent</td>\n",
       "      <td>1</td>\n",
       "      <td>skilled</td>\n",
       "      <td>1</td>\n",
       "      <td>none</td>\n",
       "      <td>yes</td>\n",
       "      <td>No Risk</td>\n",
       "    </tr>\n",
       "    <tr>\n",
       "      <th>4511</th>\n",
       "      <td>less_0</td>\n",
       "      <td>4</td>\n",
       "      <td>all_credits_paid_back</td>\n",
       "      <td>car_new</td>\n",
       "      <td>250</td>\n",
       "      <td>less_100</td>\n",
       "      <td>unemployed</td>\n",
       "      <td>1</td>\n",
       "      <td>male</td>\n",
       "      <td>none</td>\n",
       "      <td>1</td>\n",
       "      <td>real_estate</td>\n",
       "      <td>19</td>\n",
       "      <td>stores</td>\n",
       "      <td>rent</td>\n",
       "      <td>1</td>\n",
       "      <td>skilled</td>\n",
       "      <td>1</td>\n",
       "      <td>none</td>\n",
       "      <td>yes</td>\n",
       "      <td>No Risk</td>\n",
       "    </tr>\n",
       "    <tr>\n",
       "      <th>4735</th>\n",
       "      <td>less_0</td>\n",
       "      <td>4</td>\n",
       "      <td>all_credits_paid_back</td>\n",
       "      <td>car_new</td>\n",
       "      <td>250</td>\n",
       "      <td>less_100</td>\n",
       "      <td>unemployed</td>\n",
       "      <td>1</td>\n",
       "      <td>female</td>\n",
       "      <td>none</td>\n",
       "      <td>1</td>\n",
       "      <td>real_estate</td>\n",
       "      <td>19</td>\n",
       "      <td>none</td>\n",
       "      <td>rent</td>\n",
       "      <td>1</td>\n",
       "      <td>skilled</td>\n",
       "      <td>1</td>\n",
       "      <td>none</td>\n",
       "      <td>yes</td>\n",
       "      <td>No Risk</td>\n",
       "    </tr>\n",
       "  </tbody>\n",
       "</table>\n",
       "</div>"
      ],
      "text/plain": [
       "     checkingstatus  loanduration          credithistory loanpurpose  \\\n",
       "723          less_0             4  all_credits_paid_back     car_new   \n",
       "808          less_0             4  all_credits_paid_back     car_new   \n",
       "1854         less_0             4  all_credits_paid_back     car_new   \n",
       "1946         less_0             4  all_credits_paid_back     car_new   \n",
       "2119         less_0             4  all_credits_paid_back     car_new   \n",
       "2214         less_0             4  all_credits_paid_back     car_new   \n",
       "2933         less_0             4             no_credits     car_new   \n",
       "3062         less_0             4  all_credits_paid_back     car_new   \n",
       "3080         less_0             4  all_credits_paid_back     car_new   \n",
       "3081         less_0             4  all_credits_paid_back     car_new   \n",
       "3140         less_0             4  all_credits_paid_back     car_new   \n",
       "3236         less_0             4  all_credits_paid_back     car_new   \n",
       "3248         less_0             4  all_credits_paid_back     car_new   \n",
       "3314         less_0             4             no_credits     car_new   \n",
       "3497         less_0             4  all_credits_paid_back     car_new   \n",
       "3870         less_0             4  all_credits_paid_back     car_new   \n",
       "4511         less_0             4  all_credits_paid_back     car_new   \n",
       "4735         less_0             4  all_credits_paid_back     car_new   \n",
       "\n",
       "      loanamount existingsavings employmentduration  installmentpercent  \\\n",
       "723          250        less_100         unemployed                   1   \n",
       "808          250        less_100         unemployed                   1   \n",
       "1854         250        less_100         unemployed                   1   \n",
       "1946         250        less_100         unemployed                   1   \n",
       "2119         250        less_100         unemployed                   1   \n",
       "2214         250        less_100         unemployed                   1   \n",
       "2933         250        less_100             less_1                   1   \n",
       "3062         250        less_100         unemployed                   1   \n",
       "3080         250        less_100         unemployed                   1   \n",
       "3081         250        less_100         unemployed                   1   \n",
       "3140         250        less_100         unemployed                   1   \n",
       "3236         250        less_100         unemployed                   1   \n",
       "3248         250        less_100         unemployed                   1   \n",
       "3314         250        less_100         unemployed                   1   \n",
       "3497         250        less_100         unemployed                   1   \n",
       "3870         250        less_100         unemployed                   1   \n",
       "4511         250        less_100         unemployed                   1   \n",
       "4735         250        less_100         unemployed                   1   \n",
       "\n",
       "         sex othersonloan  currentresidenceduration ownsproperty  age  \\\n",
       "723   female         none                         2  real_estate   19   \n",
       "808   female         none                         2  real_estate   19   \n",
       "1854    male         none                         2  real_estate   19   \n",
       "1946  female         none                         2  real_estate   19   \n",
       "2119  female         none                         2  real_estate   19   \n",
       "2214  female         none                         2  real_estate   19   \n",
       "2933  female         none                         1  real_estate   19   \n",
       "3062  female         none                         1  real_estate   19   \n",
       "3080    male         none                         1  real_estate   19   \n",
       "3081  female         none                         2  real_estate   19   \n",
       "3140    male         none                         1  real_estate   19   \n",
       "3236  female         none                         1  real_estate   19   \n",
       "3248    male         none                         2  real_estate   19   \n",
       "3314    male         none                         2  real_estate   19   \n",
       "3497  female         none                         1  real_estate   19   \n",
       "3870    male         none                         1  real_estate   19   \n",
       "4511    male         none                         1  real_estate   19   \n",
       "4735  female         none                         1  real_estate   19   \n",
       "\n",
       "     installmentplans housing  existingcreditscount        job  dependents  \\\n",
       "723              none    rent                     1    skilled           1   \n",
       "808              none    rent                     1    skilled           1   \n",
       "1854           stores    rent                     1    skilled           1   \n",
       "1946             none    rent                     1    skilled           1   \n",
       "2119             none    rent                     1    skilled           1   \n",
       "2214             none    rent                     1    skilled           1   \n",
       "2933             none    rent                     1    skilled           1   \n",
       "3062             none    rent                     1    skilled           1   \n",
       "3080           stores    rent                     1  unskilled           1   \n",
       "3081             none    rent                     1    skilled           1   \n",
       "3140           stores    rent                     1    skilled           1   \n",
       "3236             none    rent                     1    skilled           1   \n",
       "3248           stores    rent                     1    skilled           1   \n",
       "3314             none    rent                     1    skilled           1   \n",
       "3497             none    rent                     1    skilled           1   \n",
       "3870           stores    rent                     1    skilled           1   \n",
       "4511           stores    rent                     1    skilled           1   \n",
       "4735             none    rent                     1    skilled           1   \n",
       "\n",
       "     telephone foreignworker     risk  \n",
       "723       none           yes  No Risk  \n",
       "808       none           yes  No Risk  \n",
       "1854      none           yes  No Risk  \n",
       "1946      none           yes  No Risk  \n",
       "2119      none           yes  No Risk  \n",
       "2214      none           yes  No Risk  \n",
       "2933      none           yes  No Risk  \n",
       "3062      none           yes  No Risk  \n",
       "3080      none           yes  No Risk  \n",
       "3081      none           yes  No Risk  \n",
       "3140      none           yes  No Risk  \n",
       "3236      none           yes  No Risk  \n",
       "3248      none           yes  No Risk  \n",
       "3314      none           yes  No Risk  \n",
       "3497      none           yes  No Risk  \n",
       "3870      none           yes  No Risk  \n",
       "4511      none           yes  No Risk  \n",
       "4735      none           yes  No Risk  "
      ]
     },
     "execution_count": 12,
     "metadata": {},
     "output_type": "execute_result"
    }
   ],
   "source": [
    "# create a df that shows the duplicates \n",
    "df_duplic = df[df.duplicated()]\n",
    "df_duplic"
   ]
  },
  {
   "cell_type": "code",
   "execution_count": 13,
   "metadata": {},
   "outputs": [],
   "source": [
    "# Drop the duplicates in the data\n",
    "df.drop_duplicates(inplace=True)"
   ]
  },
  {
   "cell_type": "code",
   "execution_count": 14,
   "metadata": {},
   "outputs": [],
   "source": [
    "import seaborn as sns\n",
    "from matplotlib import pyplot as plt"
   ]
  },
  {
   "cell_type": "code",
   "execution_count": 15,
   "metadata": {},
   "outputs": [
    {
     "data": {
      "image/png": "[encoded data removed]",
      "text/plain": [
       "<Figure size 864x504 with 1 Axes>"
      ]
     },
     "metadata": {
      "needs_background": "light"
     },
     "output_type": "display_data"
    }
   ],
   "source": [
    "plt.figure(figsize=(12,7))\n",
    "plt.plot(df.loanduration, df.age,'.', alpha = 1)\n",
    "sns.lineplot(x=df.loanduration, y=df.age)\n",
    "plt.show()"
   ]
  },
  {
   "cell_type": "code",
   "execution_count": 16,
   "metadata": {},
   "outputs": [
    {
     "data": {
      "text/plain": [
       "<matplotlib.axes._subplots.AxesSubplot at 0x7f8b44e3a048>"
      ]
     },
     "execution_count": 16,
     "metadata": {},
     "output_type": "execute_result"
    },
    {
     "data": {
      "image/png": "[encoded data removed]",
      "text/plain": [
       "<Figure size 864x504 with 1 Axes>"
      ]
     },
     "metadata": {
      "needs_background": "light"
     },
     "output_type": "display_data"
    }
   ],
   "source": [
    "plt.figure(figsize=(12,7))\n",
    "sns.countplot(df.risk)"
   ]
  },
  {
   "cell_type": "code",
   "execution_count": 17,
   "metadata": {},
   "outputs": [
    {
     "data": {
      "text/plain": [
       "<matplotlib.axes._subplots.AxesSubplot at 0x7f8b44ff7b38>"
      ]
     },
     "execution_count": 17,
     "metadata": {},
     "output_type": "execute_result"
    },
    {
     "data": {
      "image/png": "[encoded data removed]",
      "text/plain": [
       "<Figure size 864x504 with 1 Axes>"
      ]
     },
     "metadata": {
      "needs_background": "light"
     },
     "output_type": "display_data"
    }
   ],
   "source": [
    "plt.figure(figsize=(12,7))\n",
    "sns.countplot(df.checkingstatus)"
   ]
  },
  {
   "cell_type": "code",
   "execution_count": 18,
   "metadata": {},
   "outputs": [
    {
     "data": {
      "text/plain": [
       "<matplotlib.axes._subplots.AxesSubplot at 0x7f8b45037668>"
      ]
     },
     "execution_count": 18,
     "metadata": {},
     "output_type": "execute_result"
    },
    {
     "data": {
      "image/png": "[encoded data removed]",
      "text/plain": [
       "<Figure size 864x504 with 1 Axes>"
      ]
     },
     "metadata": {
      "needs_background": "light"
     },
     "output_type": "display_data"
    }
   ],
   "source": [
    "plt.figure(figsize=(12,7))\n",
    "sns.countplot(df.credithistory)"
   ]
  },
  {
   "cell_type": "code",
   "execution_count": 19,
   "metadata": {},
   "outputs": [
    {
     "data": {
      "text/plain": [
       "(array([0, 1, 2, 3]), <a list of 4 Text xticklabel objects>)"
      ]
     },
     "execution_count": 19,
     "metadata": {},
     "output_type": "execute_result"
    },
    {
     "data": {
      "image/png": "[encoded data removed]",
      "text/plain": [
       "<Figure size 432x288 with 1 Axes>"
      ]
     },
     "metadata": {
      "needs_background": "light"
     },
     "output_type": "display_data"
    }
   ],
   "source": [
    "#plt.figure(figsize=(12,7))\n",
    "sns.countplot(df.job)\n",
    "plt.xticks(rotation=45)"
   ]
  },
  {
   "cell_type": "code",
   "execution_count": 20,
   "metadata": {},
   "outputs": [
    {
     "data": {
      "text/plain": [
       "Index(['checkingstatus', 'loanduration', 'credithistory', 'loanpurpose',\n",
       "       'loanamount', 'existingsavings', 'employmentduration',\n",
       "       'installmentpercent', 'sex', 'othersonloan', 'currentresidenceduration',\n",
       "       'ownsproperty', 'age', 'installmentplans', 'housing',\n",
       "       'existingcreditscount', 'job', 'dependents', 'telephone',\n",
       "       'foreignworker', 'risk'],\n",
       "      dtype='object')"
      ]
     },
     "execution_count": 20,
     "metadata": {},
     "output_type": "execute_result"
    }
   ],
   "source": [
    "df.columns"
   ]
  },
  {
   "cell_type": "markdown",
   "metadata": {},
   "source": [
    "# Apply Scalling to the Data"
   ]
  },
  {
   "cell_type": "code",
   "execution_count": 21,
   "metadata": {},
   "outputs": [
    {
     "data": {
      "text/html": [
       "<div>\n",
       "<style scoped>\n",
       "    .dataframe tbody tr th:only-of-type {\n",
       "        vertical-align: middle;\n",
       "    }\n",
       "\n",
       "    .dataframe tbody tr th {\n",
       "        vertical-align: top;\n",
       "    }\n",
       "\n",
       "    .dataframe thead th {\n",
       "        text-align: right;\n",
       "    }\n",
       "</style>\n",
       "<table border=\"1\" class=\"dataframe\">\n",
       "  <thead>\n",
       "    <tr style=\"text-align: right;\">\n",
       "      <th></th>\n",
       "      <th>checkingstatus</th>\n",
       "      <th>loanduration</th>\n",
       "      <th>credithistory</th>\n",
       "      <th>loanpurpose</th>\n",
       "      <th>loanamount</th>\n",
       "      <th>existingsavings</th>\n",
       "      <th>employmentduration</th>\n",
       "      <th>installmentpercent</th>\n",
       "      <th>sex</th>\n",
       "      <th>othersonloan</th>\n",
       "      <th>currentresidenceduration</th>\n",
       "      <th>ownsproperty</th>\n",
       "      <th>age</th>\n",
       "      <th>installmentplans</th>\n",
       "      <th>housing</th>\n",
       "      <th>existingcreditscount</th>\n",
       "      <th>job</th>\n",
       "      <th>dependents</th>\n",
       "      <th>telephone</th>\n",
       "      <th>foreignworker</th>\n",
       "      <th>risk</th>\n",
       "    </tr>\n",
       "  </thead>\n",
       "  <tbody>\n",
       "    <tr>\n",
       "      <th>0</th>\n",
       "      <td>less_0</td>\n",
       "      <td>0.083333</td>\n",
       "      <td>prior_payments_delayed</td>\n",
       "      <td>furniture</td>\n",
       "      <td>0.172326</td>\n",
       "      <td>less_100</td>\n",
       "      <td>1_to_4</td>\n",
       "      <td>0.0</td>\n",
       "      <td>female</td>\n",
       "      <td>none</td>\n",
       "      <td>0.0</td>\n",
       "      <td>savings_insurance</td>\n",
       "      <td>0.181818</td>\n",
       "      <td>stores</td>\n",
       "      <td>own</td>\n",
       "      <td>0.333333</td>\n",
       "      <td>skilled</td>\n",
       "      <td>0.0</td>\n",
       "      <td>none</td>\n",
       "      <td>yes</td>\n",
       "      <td>No Risk</td>\n",
       "    </tr>\n",
       "    <tr>\n",
       "      <th>1</th>\n",
       "      <td>less_0</td>\n",
       "      <td>0.516667</td>\n",
       "      <td>credits_paid_to_date</td>\n",
       "      <td>car_used</td>\n",
       "      <td>0.012165</td>\n",
       "      <td>100_to_500</td>\n",
       "      <td>4_to_7</td>\n",
       "      <td>0.4</td>\n",
       "      <td>female</td>\n",
       "      <td>none</td>\n",
       "      <td>0.2</td>\n",
       "      <td>car_other</td>\n",
       "      <td>0.381818</td>\n",
       "      <td>stores</td>\n",
       "      <td>rent</td>\n",
       "      <td>0.000000</td>\n",
       "      <td>unskilled</td>\n",
       "      <td>0.0</td>\n",
       "      <td>none</td>\n",
       "      <td>yes</td>\n",
       "      <td>Risk</td>\n",
       "    </tr>\n",
       "    <tr>\n",
       "      <th>2</th>\n",
       "      <td>0_to_200</td>\n",
       "      <td>0.250000</td>\n",
       "      <td>credits_paid_to_date</td>\n",
       "      <td>repairs</td>\n",
       "      <td>0.160424</td>\n",
       "      <td>500_to_1000</td>\n",
       "      <td>less_1</td>\n",
       "      <td>0.4</td>\n",
       "      <td>female</td>\n",
       "      <td>none</td>\n",
       "      <td>0.2</td>\n",
       "      <td>real_estate</td>\n",
       "      <td>0.290909</td>\n",
       "      <td>none</td>\n",
       "      <td>own</td>\n",
       "      <td>0.000000</td>\n",
       "      <td>skilled</td>\n",
       "      <td>0.0</td>\n",
       "      <td>none</td>\n",
       "      <td>yes</td>\n",
       "      <td>No Risk</td>\n",
       "    </tr>\n",
       "    <tr>\n",
       "      <th>3</th>\n",
       "      <td>no_checking</td>\n",
       "      <td>0.533333</td>\n",
       "      <td>prior_payments_delayed</td>\n",
       "      <td>appliances</td>\n",
       "      <td>0.496849</td>\n",
       "      <td>unknown</td>\n",
       "      <td>greater_7</td>\n",
       "      <td>0.6</td>\n",
       "      <td>male</td>\n",
       "      <td>co-applicant</td>\n",
       "      <td>0.4</td>\n",
       "      <td>savings_insurance</td>\n",
       "      <td>0.509091</td>\n",
       "      <td>none</td>\n",
       "      <td>own</td>\n",
       "      <td>0.333333</td>\n",
       "      <td>skilled</td>\n",
       "      <td>0.0</td>\n",
       "      <td>none</td>\n",
       "      <td>yes</td>\n",
       "      <td>Risk</td>\n",
       "    </tr>\n",
       "    <tr>\n",
       "      <th>4</th>\n",
       "      <td>no_checking</td>\n",
       "      <td>0.400000</td>\n",
       "      <td>outstanding_credit</td>\n",
       "      <td>appliances</td>\n",
       "      <td>0.332837</td>\n",
       "      <td>unknown</td>\n",
       "      <td>greater_7</td>\n",
       "      <td>0.8</td>\n",
       "      <td>male</td>\n",
       "      <td>none</td>\n",
       "      <td>0.4</td>\n",
       "      <td>unknown</td>\n",
       "      <td>0.472727</td>\n",
       "      <td>none</td>\n",
       "      <td>own</td>\n",
       "      <td>0.333333</td>\n",
       "      <td>skilled</td>\n",
       "      <td>0.0</td>\n",
       "      <td>none</td>\n",
       "      <td>yes</td>\n",
       "      <td>Risk</td>\n",
       "    </tr>\n",
       "  </tbody>\n",
       "</table>\n",
       "</div>"
      ],
      "text/plain": [
       "  checkingstatus  loanduration           credithistory loanpurpose  \\\n",
       "0         less_0      0.083333  prior_payments_delayed   furniture   \n",
       "1         less_0      0.516667    credits_paid_to_date    car_used   \n",
       "2       0_to_200      0.250000    credits_paid_to_date     repairs   \n",
       "3    no_checking      0.533333  prior_payments_delayed  appliances   \n",
       "4    no_checking      0.400000      outstanding_credit  appliances   \n",
       "\n",
       "   loanamount existingsavings employmentduration  installmentpercent     sex  \\\n",
       "0    0.172326        less_100             1_to_4                 0.0  female   \n",
       "1    0.012165      100_to_500             4_to_7                 0.4  female   \n",
       "2    0.160424     500_to_1000             less_1                 0.4  female   \n",
       "3    0.496849         unknown          greater_7                 0.6    male   \n",
       "4    0.332837         unknown          greater_7                 0.8    male   \n",
       "\n",
       "   othersonloan  currentresidenceduration       ownsproperty       age  \\\n",
       "0          none                       0.0  savings_insurance  0.181818   \n",
       "1          none                       0.2          car_other  0.381818   \n",
       "2          none                       0.2        real_estate  0.290909   \n",
       "3  co-applicant                       0.4  savings_insurance  0.509091   \n",
       "4          none                       0.4            unknown  0.472727   \n",
       "\n",
       "  installmentplans housing  existingcreditscount        job  dependents  \\\n",
       "0           stores     own              0.333333    skilled         0.0   \n",
       "1           stores    rent              0.000000  unskilled         0.0   \n",
       "2             none     own              0.000000    skilled         0.0   \n",
       "3             none     own              0.333333    skilled         0.0   \n",
       "4             none     own              0.333333    skilled         0.0   \n",
       "\n",
       "  telephone foreignworker     risk  \n",
       "0      none           yes  No Risk  \n",
       "1      none           yes     Risk  \n",
       "2      none           yes  No Risk  \n",
       "3      none           yes     Risk  \n",
       "4      none           yes     Risk  "
      ]
     },
     "metadata": {},
     "output_type": "display_data"
    }
   ],
   "source": [
    "from sklearn.preprocessing import MinMaxScaler\n",
    "# Initialize a scaler, then apply it to the features\n",
    "scaler = MinMaxScaler() # default=(0, 1)\n",
    "numerical = ['loanduration', 'loanamount', 'installmentpercent', 'currentresidenceduration', 'age','existingcreditscount','dependents']\n",
    "\n",
    "df_transform = pd.DataFrame(data = df)\n",
    "df_transform[numerical] = scaler.fit_transform(df_transform[numerical])\n",
    "\n",
    "# Show an example of a record with scaling applied\n",
    "display(df_transform.head(n = 5))"
   ]
  },
  {
   "cell_type": "code",
   "execution_count": 22,
   "metadata": {},
   "outputs": [],
   "source": [
    "# Split the data into features (df_split) and target (target) label sets\n",
    "df_split = pd.DataFrame(df.iloc[:,:-1])\n",
    "target = pd.DataFrame(df.iloc[:,-1:])"
   ]
  },
  {
   "cell_type": "code",
   "execution_count": 23,
   "metadata": {},
   "outputs": [
    {
     "data": {
      "text/plain": [
       "60"
      ]
     },
     "execution_count": 23,
     "metadata": {},
     "output_type": "execute_result"
    }
   ],
   "source": [
    "# Use get dummies to  enode df_split \n",
    "gd = pd.get_dummies(df_split)\n",
    "encode = list(gd.columns)\n",
    "len(encode)"
   ]
  },
  {
   "cell_type": "code",
   "execution_count": 24,
   "metadata": {
    "scrolled": true
   },
   "outputs": [
    {
     "data": {
      "text/html": [
       "<div>\n",
       "<style scoped>\n",
       "    .dataframe tbody tr th:only-of-type {\n",
       "        vertical-align: middle;\n",
       "    }\n",
       "\n",
       "    .dataframe tbody tr th {\n",
       "        vertical-align: top;\n",
       "    }\n",
       "\n",
       "    .dataframe thead th {\n",
       "        text-align: right;\n",
       "    }\n",
       "</style>\n",
       "<table border=\"1\" class=\"dataframe\">\n",
       "  <thead>\n",
       "    <tr style=\"text-align: right;\">\n",
       "      <th></th>\n",
       "      <th>loanduration</th>\n",
       "      <th>loanamount</th>\n",
       "      <th>installmentpercent</th>\n",
       "      <th>currentresidenceduration</th>\n",
       "      <th>age</th>\n",
       "      <th>existingcreditscount</th>\n",
       "      <th>dependents</th>\n",
       "      <th>checkingstatus_0_to_200</th>\n",
       "      <th>checkingstatus_greater_200</th>\n",
       "      <th>checkingstatus_less_0</th>\n",
       "      <th>checkingstatus_no_checking</th>\n",
       "      <th>credithistory_all_credits_paid_back</th>\n",
       "      <th>credithistory_credits_paid_to_date</th>\n",
       "      <th>credithistory_no_credits</th>\n",
       "      <th>credithistory_outstanding_credit</th>\n",
       "      <th>credithistory_prior_payments_delayed</th>\n",
       "      <th>loanpurpose_appliances</th>\n",
       "      <th>loanpurpose_business</th>\n",
       "      <th>loanpurpose_car_new</th>\n",
       "      <th>loanpurpose_car_used</th>\n",
       "      <th>loanpurpose_education</th>\n",
       "      <th>loanpurpose_furniture</th>\n",
       "      <th>loanpurpose_other</th>\n",
       "      <th>loanpurpose_radio_tv</th>\n",
       "      <th>loanpurpose_repairs</th>\n",
       "      <th>loanpurpose_retraining</th>\n",
       "      <th>loanpurpose_vacation</th>\n",
       "      <th>existingsavings_100_to_500</th>\n",
       "      <th>existingsavings_500_to_1000</th>\n",
       "      <th>existingsavings_greater_1000</th>\n",
       "      <th>existingsavings_less_100</th>\n",
       "      <th>existingsavings_unknown</th>\n",
       "      <th>employmentduration_1_to_4</th>\n",
       "      <th>employmentduration_4_to_7</th>\n",
       "      <th>employmentduration_greater_7</th>\n",
       "      <th>employmentduration_less_1</th>\n",
       "      <th>employmentduration_unemployed</th>\n",
       "      <th>sex_female</th>\n",
       "      <th>sex_male</th>\n",
       "      <th>othersonloan_co-applicant</th>\n",
       "      <th>othersonloan_guarantor</th>\n",
       "      <th>othersonloan_none</th>\n",
       "      <th>ownsproperty_car_other</th>\n",
       "      <th>ownsproperty_real_estate</th>\n",
       "      <th>ownsproperty_savings_insurance</th>\n",
       "      <th>ownsproperty_unknown</th>\n",
       "      <th>installmentplans_bank</th>\n",
       "      <th>installmentplans_none</th>\n",
       "      <th>installmentplans_stores</th>\n",
       "      <th>housing_free</th>\n",
       "      <th>housing_own</th>\n",
       "      <th>housing_rent</th>\n",
       "      <th>job_management_self-employed</th>\n",
       "      <th>job_skilled</th>\n",
       "      <th>job_unemployed</th>\n",
       "      <th>job_unskilled</th>\n",
       "      <th>telephone_none</th>\n",
       "      <th>telephone_yes</th>\n",
       "      <th>foreignworker_no</th>\n",
       "      <th>foreignworker_yes</th>\n",
       "    </tr>\n",
       "  </thead>\n",
       "  <tbody>\n",
       "    <tr>\n",
       "      <th>0</th>\n",
       "      <td>0.083333</td>\n",
       "      <td>0.172326</td>\n",
       "      <td>0.0</td>\n",
       "      <td>0.0</td>\n",
       "      <td>0.181818</td>\n",
       "      <td>0.333333</td>\n",
       "      <td>0.0</td>\n",
       "      <td>0</td>\n",
       "      <td>0</td>\n",
       "      <td>1</td>\n",
       "      <td>0</td>\n",
       "      <td>0</td>\n",
       "      <td>0</td>\n",
       "      <td>0</td>\n",
       "      <td>0</td>\n",
       "      <td>1</td>\n",
       "      <td>0</td>\n",
       "      <td>0</td>\n",
       "      <td>0</td>\n",
       "      <td>0</td>\n",
       "      <td>0</td>\n",
       "      <td>1</td>\n",
       "      <td>0</td>\n",
       "      <td>0</td>\n",
       "      <td>0</td>\n",
       "      <td>0</td>\n",
       "      <td>0</td>\n",
       "      <td>0</td>\n",
       "      <td>0</td>\n",
       "      <td>0</td>\n",
       "      <td>1</td>\n",
       "      <td>0</td>\n",
       "      <td>1</td>\n",
       "      <td>0</td>\n",
       "      <td>0</td>\n",
       "      <td>0</td>\n",
       "      <td>0</td>\n",
       "      <td>1</td>\n",
       "      <td>0</td>\n",
       "      <td>0</td>\n",
       "      <td>0</td>\n",
       "      <td>1</td>\n",
       "      <td>0</td>\n",
       "      <td>0</td>\n",
       "      <td>1</td>\n",
       "      <td>0</td>\n",
       "      <td>0</td>\n",
       "      <td>0</td>\n",
       "      <td>1</td>\n",
       "      <td>0</td>\n",
       "      <td>1</td>\n",
       "      <td>0</td>\n",
       "      <td>0</td>\n",
       "      <td>1</td>\n",
       "      <td>0</td>\n",
       "      <td>0</td>\n",
       "      <td>1</td>\n",
       "      <td>0</td>\n",
       "      <td>0</td>\n",
       "      <td>1</td>\n",
       "    </tr>\n",
       "    <tr>\n",
       "      <th>1</th>\n",
       "      <td>0.516667</td>\n",
       "      <td>0.012165</td>\n",
       "      <td>0.4</td>\n",
       "      <td>0.2</td>\n",
       "      <td>0.381818</td>\n",
       "      <td>0.000000</td>\n",
       "      <td>0.0</td>\n",
       "      <td>0</td>\n",
       "      <td>0</td>\n",
       "      <td>1</td>\n",
       "      <td>0</td>\n",
       "      <td>0</td>\n",
       "      <td>1</td>\n",
       "      <td>0</td>\n",
       "      <td>0</td>\n",
       "      <td>0</td>\n",
       "      <td>0</td>\n",
       "      <td>0</td>\n",
       "      <td>0</td>\n",
       "      <td>1</td>\n",
       "      <td>0</td>\n",
       "      <td>0</td>\n",
       "      <td>0</td>\n",
       "      <td>0</td>\n",
       "      <td>0</td>\n",
       "      <td>0</td>\n",
       "      <td>0</td>\n",
       "      <td>1</td>\n",
       "      <td>0</td>\n",
       "      <td>0</td>\n",
       "      <td>0</td>\n",
       "      <td>0</td>\n",
       "      <td>0</td>\n",
       "      <td>1</td>\n",
       "      <td>0</td>\n",
       "      <td>0</td>\n",
       "      <td>0</td>\n",
       "      <td>1</td>\n",
       "      <td>0</td>\n",
       "      <td>0</td>\n",
       "      <td>0</td>\n",
       "      <td>1</td>\n",
       "      <td>1</td>\n",
       "      <td>0</td>\n",
       "      <td>0</td>\n",
       "      <td>0</td>\n",
       "      <td>0</td>\n",
       "      <td>0</td>\n",
       "      <td>1</td>\n",
       "      <td>0</td>\n",
       "      <td>0</td>\n",
       "      <td>1</td>\n",
       "      <td>0</td>\n",
       "      <td>0</td>\n",
       "      <td>0</td>\n",
       "      <td>1</td>\n",
       "      <td>1</td>\n",
       "      <td>0</td>\n",
       "      <td>0</td>\n",
       "      <td>1</td>\n",
       "    </tr>\n",
       "    <tr>\n",
       "      <th>2</th>\n",
       "      <td>0.250000</td>\n",
       "      <td>0.160424</td>\n",
       "      <td>0.4</td>\n",
       "      <td>0.2</td>\n",
       "      <td>0.290909</td>\n",
       "      <td>0.000000</td>\n",
       "      <td>0.0</td>\n",
       "      <td>1</td>\n",
       "      <td>0</td>\n",
       "      <td>0</td>\n",
       "      <td>0</td>\n",
       "      <td>0</td>\n",
       "      <td>1</td>\n",
       "      <td>0</td>\n",
       "      <td>0</td>\n",
       "      <td>0</td>\n",
       "      <td>0</td>\n",
       "      <td>0</td>\n",
       "      <td>0</td>\n",
       "      <td>0</td>\n",
       "      <td>0</td>\n",
       "      <td>0</td>\n",
       "      <td>0</td>\n",
       "      <td>0</td>\n",
       "      <td>1</td>\n",
       "      <td>0</td>\n",
       "      <td>0</td>\n",
       "      <td>0</td>\n",
       "      <td>1</td>\n",
       "      <td>0</td>\n",
       "      <td>0</td>\n",
       "      <td>0</td>\n",
       "      <td>0</td>\n",
       "      <td>0</td>\n",
       "      <td>0</td>\n",
       "      <td>1</td>\n",
       "      <td>0</td>\n",
       "      <td>1</td>\n",
       "      <td>0</td>\n",
       "      <td>0</td>\n",
       "      <td>0</td>\n",
       "      <td>1</td>\n",
       "      <td>0</td>\n",
       "      <td>1</td>\n",
       "      <td>0</td>\n",
       "      <td>0</td>\n",
       "      <td>0</td>\n",
       "      <td>1</td>\n",
       "      <td>0</td>\n",
       "      <td>0</td>\n",
       "      <td>1</td>\n",
       "      <td>0</td>\n",
       "      <td>0</td>\n",
       "      <td>1</td>\n",
       "      <td>0</td>\n",
       "      <td>0</td>\n",
       "      <td>1</td>\n",
       "      <td>0</td>\n",
       "      <td>0</td>\n",
       "      <td>1</td>\n",
       "    </tr>\n",
       "    <tr>\n",
       "      <th>3</th>\n",
       "      <td>0.533333</td>\n",
       "      <td>0.496849</td>\n",
       "      <td>0.6</td>\n",
       "      <td>0.4</td>\n",
       "      <td>0.509091</td>\n",
       "      <td>0.333333</td>\n",
       "      <td>0.0</td>\n",
       "      <td>0</td>\n",
       "      <td>0</td>\n",
       "      <td>0</td>\n",
       "      <td>1</td>\n",
       "      <td>0</td>\n",
       "      <td>0</td>\n",
       "      <td>0</td>\n",
       "      <td>0</td>\n",
       "      <td>1</td>\n",
       "      <td>1</td>\n",
       "      <td>0</td>\n",
       "      <td>0</td>\n",
       "      <td>0</td>\n",
       "      <td>0</td>\n",
       "      <td>0</td>\n",
       "      <td>0</td>\n",
       "      <td>0</td>\n",
       "      <td>0</td>\n",
       "      <td>0</td>\n",
       "      <td>0</td>\n",
       "      <td>0</td>\n",
       "      <td>0</td>\n",
       "      <td>0</td>\n",
       "      <td>0</td>\n",
       "      <td>1</td>\n",
       "      <td>0</td>\n",
       "      <td>0</td>\n",
       "      <td>1</td>\n",
       "      <td>0</td>\n",
       "      <td>0</td>\n",
       "      <td>0</td>\n",
       "      <td>1</td>\n",
       "      <td>1</td>\n",
       "      <td>0</td>\n",
       "      <td>0</td>\n",
       "      <td>0</td>\n",
       "      <td>0</td>\n",
       "      <td>1</td>\n",
       "      <td>0</td>\n",
       "      <td>0</td>\n",
       "      <td>1</td>\n",
       "      <td>0</td>\n",
       "      <td>0</td>\n",
       "      <td>1</td>\n",
       "      <td>0</td>\n",
       "      <td>0</td>\n",
       "      <td>1</td>\n",
       "      <td>0</td>\n",
       "      <td>0</td>\n",
       "      <td>1</td>\n",
       "      <td>0</td>\n",
       "      <td>0</td>\n",
       "      <td>1</td>\n",
       "    </tr>\n",
       "    <tr>\n",
       "      <th>4</th>\n",
       "      <td>0.400000</td>\n",
       "      <td>0.332837</td>\n",
       "      <td>0.8</td>\n",
       "      <td>0.4</td>\n",
       "      <td>0.472727</td>\n",
       "      <td>0.333333</td>\n",
       "      <td>0.0</td>\n",
       "      <td>0</td>\n",
       "      <td>0</td>\n",
       "      <td>0</td>\n",
       "      <td>1</td>\n",
       "      <td>0</td>\n",
       "      <td>0</td>\n",
       "      <td>0</td>\n",
       "      <td>1</td>\n",
       "      <td>0</td>\n",
       "      <td>1</td>\n",
       "      <td>0</td>\n",
       "      <td>0</td>\n",
       "      <td>0</td>\n",
       "      <td>0</td>\n",
       "      <td>0</td>\n",
       "      <td>0</td>\n",
       "      <td>0</td>\n",
       "      <td>0</td>\n",
       "      <td>0</td>\n",
       "      <td>0</td>\n",
       "      <td>0</td>\n",
       "      <td>0</td>\n",
       "      <td>0</td>\n",
       "      <td>0</td>\n",
       "      <td>1</td>\n",
       "      <td>0</td>\n",
       "      <td>0</td>\n",
       "      <td>1</td>\n",
       "      <td>0</td>\n",
       "      <td>0</td>\n",
       "      <td>0</td>\n",
       "      <td>1</td>\n",
       "      <td>0</td>\n",
       "      <td>0</td>\n",
       "      <td>1</td>\n",
       "      <td>0</td>\n",
       "      <td>0</td>\n",
       "      <td>0</td>\n",
       "      <td>1</td>\n",
       "      <td>0</td>\n",
       "      <td>1</td>\n",
       "      <td>0</td>\n",
       "      <td>0</td>\n",
       "      <td>1</td>\n",
       "      <td>0</td>\n",
       "      <td>0</td>\n",
       "      <td>1</td>\n",
       "      <td>0</td>\n",
       "      <td>0</td>\n",
       "      <td>1</td>\n",
       "      <td>0</td>\n",
       "      <td>0</td>\n",
       "      <td>1</td>\n",
       "    </tr>\n",
       "  </tbody>\n",
       "</table>\n",
       "</div>"
      ],
      "text/plain": [
       "   loanduration  loanamount  installmentpercent  currentresidenceduration  \\\n",
       "0      0.083333    0.172326                 0.0                       0.0   \n",
       "1      0.516667    0.012165                 0.4                       0.2   \n",
       "2      0.250000    0.160424                 0.4                       0.2   \n",
       "3      0.533333    0.496849                 0.6                       0.4   \n",
       "4      0.400000    0.332837                 0.8                       0.4   \n",
       "\n",
       "        age  existingcreditscount  dependents  checkingstatus_0_to_200  \\\n",
       "0  0.181818              0.333333         0.0                        0   \n",
       "1  0.381818              0.000000         0.0                        0   \n",
       "2  0.290909              0.000000         0.0                        1   \n",
       "3  0.509091              0.333333         0.0                        0   \n",
       "4  0.472727              0.333333         0.0                        0   \n",
       "\n",
       "   checkingstatus_greater_200  checkingstatus_less_0  \\\n",
       "0                           0                      1   \n",
       "1                           0                      1   \n",
       "2                           0                      0   \n",
       "3                           0                      0   \n",
       "4                           0                      0   \n",
       "\n",
       "   checkingstatus_no_checking  credithistory_all_credits_paid_back  \\\n",
       "0                           0                                    0   \n",
       "1                           0                                    0   \n",
       "2                           0                                    0   \n",
       "3                           1                                    0   \n",
       "4                           1                                    0   \n",
       "\n",
       "   credithistory_credits_paid_to_date  credithistory_no_credits  \\\n",
       "0                                   0                         0   \n",
       "1                                   1                         0   \n",
       "2                                   1                         0   \n",
       "3                                   0                         0   \n",
       "4                                   0                         0   \n",
       "\n",
       "   credithistory_outstanding_credit  credithistory_prior_payments_delayed  \\\n",
       "0                                 0                                     1   \n",
       "1                                 0                                     0   \n",
       "2                                 0                                     0   \n",
       "3                                 0                                     1   \n",
       "4                                 1                                     0   \n",
       "\n",
       "   loanpurpose_appliances  loanpurpose_business  loanpurpose_car_new  \\\n",
       "0                       0                     0                    0   \n",
       "1                       0                     0                    0   \n",
       "2                       0                     0                    0   \n",
       "3                       1                     0                    0   \n",
       "4                       1                     0                    0   \n",
       "\n",
       "   loanpurpose_car_used  loanpurpose_education  loanpurpose_furniture  \\\n",
       "0                     0                      0                      1   \n",
       "1                     1                      0                      0   \n",
       "2                     0                      0                      0   \n",
       "3                     0                      0                      0   \n",
       "4                     0                      0                      0   \n",
       "\n",
       "   loanpurpose_other  loanpurpose_radio_tv  loanpurpose_repairs  \\\n",
       "0                  0                     0                    0   \n",
       "1                  0                     0                    0   \n",
       "2                  0                     0                    1   \n",
       "3                  0                     0                    0   \n",
       "4                  0                     0                    0   \n",
       "\n",
       "   loanpurpose_retraining  loanpurpose_vacation  existingsavings_100_to_500  \\\n",
       "0                       0                     0                           0   \n",
       "1                       0                     0                           1   \n",
       "2                       0                     0                           0   \n",
       "3                       0                     0                           0   \n",
       "4                       0                     0                           0   \n",
       "\n",
       "   existingsavings_500_to_1000  existingsavings_greater_1000  \\\n",
       "0                            0                             0   \n",
       "1                            0                             0   \n",
       "2                            1                             0   \n",
       "3                            0                             0   \n",
       "4                            0                             0   \n",
       "\n",
       "   existingsavings_less_100  existingsavings_unknown  \\\n",
       "0                         1                        0   \n",
       "1                         0                        0   \n",
       "2                         0                        0   \n",
       "3                         0                        1   \n",
       "4                         0                        1   \n",
       "\n",
       "   employmentduration_1_to_4  employmentduration_4_to_7  \\\n",
       "0                          1                          0   \n",
       "1                          0                          1   \n",
       "2                          0                          0   \n",
       "3                          0                          0   \n",
       "4                          0                          0   \n",
       "\n",
       "   employmentduration_greater_7  employmentduration_less_1  \\\n",
       "0                             0                          0   \n",
       "1                             0                          0   \n",
       "2                             0                          1   \n",
       "3                             1                          0   \n",
       "4                             1                          0   \n",
       "\n",
       "   employmentduration_unemployed  sex_female  sex_male  \\\n",
       "0                              0           1         0   \n",
       "1                              0           1         0   \n",
       "2                              0           1         0   \n",
       "3                              0           0         1   \n",
       "4                              0           0         1   \n",
       "\n",
       "   othersonloan_co-applicant  othersonloan_guarantor  othersonloan_none  \\\n",
       "0                          0                       0                  1   \n",
       "1                          0                       0                  1   \n",
       "2                          0                       0                  1   \n",
       "3                          1                       0                  0   \n",
       "4                          0                       0                  1   \n",
       "\n",
       "   ownsproperty_car_other  ownsproperty_real_estate  \\\n",
       "0                       0                         0   \n",
       "1                       1                         0   \n",
       "2                       0                         1   \n",
       "3                       0                         0   \n",
       "4                       0                         0   \n",
       "\n",
       "   ownsproperty_savings_insurance  ownsproperty_unknown  \\\n",
       "0                               1                     0   \n",
       "1                               0                     0   \n",
       "2                               0                     0   \n",
       "3                               1                     0   \n",
       "4                               0                     1   \n",
       "\n",
       "   installmentplans_bank  installmentplans_none  installmentplans_stores  \\\n",
       "0                      0                      0                        1   \n",
       "1                      0                      0                        1   \n",
       "2                      0                      1                        0   \n",
       "3                      0                      1                        0   \n",
       "4                      0                      1                        0   \n",
       "\n",
       "   housing_free  housing_own  housing_rent  job_management_self-employed  \\\n",
       "0             0            1             0                             0   \n",
       "1             0            0             1                             0   \n",
       "2             0            1             0                             0   \n",
       "3             0            1             0                             0   \n",
       "4             0            1             0                             0   \n",
       "\n",
       "   job_skilled  job_unemployed  job_unskilled  telephone_none  telephone_yes  \\\n",
       "0            1               0              0               1              0   \n",
       "1            0               0              1               1              0   \n",
       "2            1               0              0               1              0   \n",
       "3            1               0              0               1              0   \n",
       "4            1               0              0               1              0   \n",
       "\n",
       "   foreignworker_no  foreignworker_yes  \n",
       "0                 0                  1  \n",
       "1                 0                  1  \n",
       "2                 0                  1  \n",
       "3                 0                  1  \n",
       "4                 0                  1  "
      ]
     },
     "execution_count": 24,
     "metadata": {},
     "output_type": "execute_result"
    }
   ],
   "source": [
    "gd.head()"
   ]
  },
  {
   "cell_type": "code",
   "execution_count": 25,
   "metadata": {
    "scrolled": true
   },
   "outputs": [
    {
     "data": {
      "text/plain": [
       "['loanduration',\n",
       " 'loanamount',\n",
       " 'installmentpercent',\n",
       " 'currentresidenceduration',\n",
       " 'age',\n",
       " 'existingcreditscount',\n",
       " 'dependents',\n",
       " 'checkingstatus_0_to_200',\n",
       " 'checkingstatus_greater_200',\n",
       " 'checkingstatus_less_0',\n",
       " 'checkingstatus_no_checking',\n",
       " 'credithistory_all_credits_paid_back',\n",
       " 'credithistory_credits_paid_to_date',\n",
       " 'credithistory_no_credits',\n",
       " 'credithistory_outstanding_credit',\n",
       " 'credithistory_prior_payments_delayed',\n",
       " 'loanpurpose_appliances',\n",
       " 'loanpurpose_business',\n",
       " 'loanpurpose_car_new',\n",
       " 'loanpurpose_car_used',\n",
       " 'loanpurpose_education',\n",
       " 'loanpurpose_furniture',\n",
       " 'loanpurpose_other',\n",
       " 'loanpurpose_radio_tv',\n",
       " 'loanpurpose_repairs',\n",
       " 'loanpurpose_retraining',\n",
       " 'loanpurpose_vacation',\n",
       " 'existingsavings_100_to_500',\n",
       " 'existingsavings_500_to_1000',\n",
       " 'existingsavings_greater_1000',\n",
       " 'existingsavings_less_100',\n",
       " 'existingsavings_unknown',\n",
       " 'employmentduration_1_to_4',\n",
       " 'employmentduration_4_to_7',\n",
       " 'employmentduration_greater_7',\n",
       " 'employmentduration_less_1',\n",
       " 'employmentduration_unemployed',\n",
       " 'sex_female',\n",
       " 'sex_male',\n",
       " 'othersonloan_co-applicant',\n",
       " 'othersonloan_guarantor',\n",
       " 'othersonloan_none',\n",
       " 'ownsproperty_car_other',\n",
       " 'ownsproperty_real_estate',\n",
       " 'ownsproperty_savings_insurance',\n",
       " 'ownsproperty_unknown',\n",
       " 'installmentplans_bank',\n",
       " 'installmentplans_none',\n",
       " 'installmentplans_stores',\n",
       " 'housing_free',\n",
       " 'housing_own',\n",
       " 'housing_rent',\n",
       " 'job_management_self-employed',\n",
       " 'job_skilled',\n",
       " 'job_unemployed',\n",
       " 'job_unskilled',\n",
       " 'telephone_none',\n",
       " 'telephone_yes',\n",
       " 'foreignworker_no',\n",
       " 'foreignworker_yes']"
      ]
     },
     "execution_count": 25,
     "metadata": {},
     "output_type": "execute_result"
    }
   ],
   "source": [
    "encode"
   ]
  },
  {
   "cell_type": "code",
   "execution_count": 26,
   "metadata": {},
   "outputs": [
    {
     "name": "stdout",
     "output_type": "stream",
     "text": [
      "Training set has 3985 samples.\n",
      "Testing set has 997 samples.\n"
     ]
    }
   ],
   "source": [
    "# Import train_test_split\n",
    "#from sklearn.cross_validation import train_test_split\n",
    "from sklearn.model_selection import train_test_split\n",
    "# Split the 'features' and 'income' data into training and testing sets\n",
    "X_train, X_test, y_train, y_test = train_test_split(gd,target,test_size = 0.2,random_state = 0)\n",
    "\n",
    "# Show the results of the split\n",
    "print(\"Training set has {} samples.\".format(X_train.shape[0]))\n",
    "print(\"Testing set has {} samples.\".format(X_test.shape[0]))"
   ]
  },
  {
   "cell_type": "code",
   "execution_count": 27,
   "metadata": {},
   "outputs": [],
   "source": [
    "# Import whats needed to perform modeling \n",
    "from sklearn.metrics import accuracy_score\n",
    "from sklearn import metrics\n",
    "from sklearn.metrics import mean_squared_error,r2_score\n",
    "from sklearn.model_selection import KFold\n",
    "from sklearn.model_selection import GridSearchCV\n",
    "from sklearn.model_selection import cross_val_predict\n",
    "from sklearn.model_selection import cross_val_score\n",
    "from sklearn.metrics import accuracy_score\n",
    "import lightgbm as lgb\n",
    "import xgboost as xgb\n",
    "from sklearn.linear_model import LogisticRegression \n",
    "from sklearn import svm, tree\n",
    "from sklearn.ensemble import RandomForestRegressor\n",
    "from sklearn.model_selection import GridSearchCV\n",
    "from sklearn.ensemble import RandomForestClassifier\n",
    "from sklearn.metrics import confusion_matrix\n",
    "from sklearn.metrics import classification_report\n",
    "from sklearn.linear_model import SGDClassifier\n",
    "import statistics \n"
   ]
  },
  {
   "cell_type": "code",
   "execution_count": 28,
   "metadata": {},
   "outputs": [],
   "source": [
    "# Create an array of Classifiers & Names and append different classification models to our array.\n",
    "classifiers = []\n",
    "names =[]\n",
    "model1 = xgb.XGBClassifier()\n",
    "name1 = \"xgb\"\n",
    "names.append(name1)\n",
    "classifiers.append(model1)\n",
    "\n",
    "model2 = svm.SVC()\n",
    "name2 = \"SVC\"\n",
    "names.append(name2)\n",
    "classifiers.append(model2)\n",
    "\n",
    "model3 = tree.DecisionTreeClassifier()\n",
    "name3 = \"DecisionTreeClassifier\"\n",
    "names.append(name3)\n",
    "classifiers.append(model3)\n",
    "\n",
    "model4 = RandomForestClassifier()\n",
    "name4 = \"RandomForestClassifier\"\n",
    "names.append(name4)\n",
    "classifiers.append(model4)\n",
    "\n",
    "model5 = LogisticRegression()\n",
    "name5 = \"LogisticRegression\"\n",
    "names.append(name5)\n",
    "classifiers.append(model5)\n",
    "\n",
    "model6 = SGDClassifier()\n",
    "name6 = 'SGD'\n",
    "names.append(name6)\n",
    "classifiers.append(model6)"
   ]
  },
  {
   "cell_type": "markdown",
   "metadata": {},
   "source": [
    "# XGB"
   ]
  },
  {
   "cell_type": "code",
   "execution_count": 29,
   "metadata": {
    "scrolled": true
   },
   "outputs": [
    {
     "data": {
      "text/plain": [
       "XGBClassifier(base_score=0.5, booster='gbtree', colsample_bylevel=1,\n",
       "              colsample_bynode=1, colsample_bytree=1, gamma=0,\n",
       "              learning_rate=0.1, max_delta_step=0, max_depth=3,\n",
       "              min_child_weight=1, missing=None, n_estimators=100, n_jobs=1,\n",
       "              nthread=None, objective='binary:logistic', random_state=0,\n",
       "              reg_alpha=0, reg_lambda=1, scale_pos_weight=1, seed=None,\n",
       "              silent=None, subsample=1, verbosity=1)"
      ]
     },
     "execution_count": 29,
     "metadata": {},
     "output_type": "execute_result"
    }
   ],
   "source": [
    "# Fit the XGB model to the data\n",
    "model1.fit (X_test,y_test)"
   ]
  },
  {
   "cell_type": "code",
   "execution_count": 30,
   "metadata": {},
   "outputs": [],
   "source": [
    "# Predict XGB on the data and save it as y_pred\n",
    "y_pred  = model1.predict(X_test)"
   ]
  },
  {
   "cell_type": "code",
   "execution_count": 31,
   "metadata": {
    "scrolled": true
   },
   "outputs": [
    {
     "data": {
      "text/plain": [
       "array([[639,  35],\n",
       "       [ 96, 227]])"
      ]
     },
     "execution_count": 31,
     "metadata": {},
     "output_type": "execute_result"
    }
   ],
   "source": [
    "# Perform a confusion matrix and take a proper look at the prediction\n",
    "confusion_matrix(y_test,y_pred)"
   ]
  },
  {
   "cell_type": "code",
   "execution_count": 32,
   "metadata": {},
   "outputs": [
    {
     "name": "stdout",
     "output_type": "stream",
     "text": [
      "[0.76237624 0.73267327 0.8019802  0.76       0.75757576 0.75757576\n",
      " 0.78787879 0.7979798  0.72727273 0.75757576]\n"
     ]
    }
   ],
   "source": [
    "# Use cross_val_score on the test data and the following is the score after 5 folds \n",
    "scores=cross_val_score(model1,X_test,y_test,cv=10)\n",
    "print(cross_val_score(model1,X_test,y_test,cv=10))"
   ]
  },
  {
   "cell_type": "code",
   "execution_count": 33,
   "metadata": {},
   "outputs": [
    {
     "name": "stdout",
     "output_type": "stream",
     "text": [
      "Mean is : 0.7642888288828883\n"
     ]
    }
   ],
   "source": [
    "x = statistics.mean(scores) \n",
    "\n",
    "# Printing the mean \n",
    "print(\"Mean is :\", x) "
   ]
  },
  {
   "cell_type": "code",
   "execution_count": 34,
   "metadata": {},
   "outputs": [
    {
     "name": "stdout",
     "output_type": "stream",
     "text": [
      "[[639  35]\n",
      " [ 96 227]]\n"
     ]
    }
   ],
   "source": [
    "# save confusion matrix and slice into four pieces\n",
    "confusion = metrics.confusion_matrix(y_test, y_pred)\n",
    "print(confusion)\n",
    "#[row, column]\n",
    "TP = confusion[1, 1]\n",
    "TN = confusion[0, 0]\n",
    "FP = confusion[0, 1]\n",
    "FN = confusion[1, 0]\n",
    "classification_error = (FP + FN) / float(TP + TN + FP + FN)"
   ]
  },
  {
   "cell_type": "markdown",
   "metadata": {},
   "source": [
    "### Classification Error: Overall, how often is the classifier incorrect?"
   ]
  },
  {
   "cell_type": "code",
   "execution_count": 35,
   "metadata": {},
   "outputs": [
    {
     "name": "stdout",
     "output_type": "stream",
     "text": [
      "0.13139418254764293\n",
      "0.1313941825476429\n"
     ]
    }
   ],
   "source": [
    "print(classification_error)\n",
    "print(1 - metrics.accuracy_score(y_test, y_pred))"
   ]
  },
  {
   "cell_type": "markdown",
   "metadata": {},
   "source": [
    "### Specificity: When the actual value is negative, how often is the prediction correct?\n"
   ]
  },
  {
   "cell_type": "code",
   "execution_count": 36,
   "metadata": {},
   "outputs": [
    {
     "name": "stdout",
     "output_type": "stream",
     "text": [
      "0.9480712166172107\n"
     ]
    }
   ],
   "source": [
    "specificity = TN / (TN + FP)\n",
    "\n",
    "print(specificity)"
   ]
  },
  {
   "cell_type": "code",
   "execution_count": 37,
   "metadata": {
    "scrolled": true
   },
   "outputs": [
    {
     "name": "stdout",
     "output_type": "stream",
     "text": [
      "              precision    recall  f1-score   support\n",
      "\n",
      "     No Risk       0.87      0.95      0.91       674\n",
      "        Risk       0.87      0.70      0.78       323\n",
      "\n",
      "    accuracy                           0.87       997\n",
      "   macro avg       0.87      0.83      0.84       997\n",
      "weighted avg       0.87      0.87      0.86       997\n",
      "\n",
      "Accuracy Score : 0.8686058174523571\n"
     ]
    }
   ],
   "source": [
    "print(classification_report(y_test,y_pred))\n",
    "print ('Accuracy Score :',accuracy_score(y_test,y_pred))"
   ]
  },
  {
   "cell_type": "code",
   "execution_count": 38,
   "metadata": {},
   "outputs": [
    {
     "name": "stdout",
     "output_type": "stream",
     "text": [
      "Accuracy score on training data: 0.7777\n"
     ]
    }
   ],
   "source": [
    "predictions = model1.fit(X_test, y_test).predict(X_train)\n",
    "print(\"Accuracy score on training data: {:.4f}\".format(accuracy_score(y_train, predictions)))"
   ]
  },
  {
   "cell_type": "markdown",
   "metadata": {},
   "source": [
    "# SVC"
   ]
  },
  {
   "cell_type": "code",
   "execution_count": 39,
   "metadata": {
    "scrolled": true
   },
   "outputs": [
    {
     "data": {
      "text/plain": [
       "SVC(C=1.0, cache_size=200, class_weight=None, coef0=0.0,\n",
       "    decision_function_shape='ovr', degree=3, gamma='auto_deprecated',\n",
       "    kernel='rbf', max_iter=-1, probability=False, random_state=None,\n",
       "    shrinking=True, tol=0.001, verbose=False)"
      ]
     },
     "execution_count": 39,
     "metadata": {},
     "output_type": "execute_result"
    }
   ],
   "source": [
    "# Fit the SVC model to the data\n",
    "model2.fit (X_test,y_test)"
   ]
  },
  {
   "cell_type": "code",
   "execution_count": 40,
   "metadata": {},
   "outputs": [],
   "source": [
    "# Predict SVC on the data and save it as y_pred\n",
    "y_pred  = model2.predict(X_test)"
   ]
  },
  {
   "cell_type": "code",
   "execution_count": 41,
   "metadata": {},
   "outputs": [
    {
     "name": "stdout",
     "output_type": "stream",
     "text": [
      "[[640  34]\n",
      " [176 147]]\n"
     ]
    }
   ],
   "source": [
    "# Perform a confusion matrix and take a proper look at the prediction\n",
    "cm2 = confusion_matrix(y_test,y_pred)\n",
    "print(cm2)"
   ]
  },
  {
   "cell_type": "code",
   "execution_count": 42,
   "metadata": {},
   "outputs": [
    {
     "name": "stdout",
     "output_type": "stream",
     "text": [
      "[0.78217822 0.8019802  0.76237624 0.78       0.76767677 0.75757576\n",
      " 0.78787879 0.7979798  0.73737374 0.75757576]\n"
     ]
    }
   ],
   "source": [
    "# Use cross_val_score on the test data and the following is the score after 5 folds \n",
    "scores=cross_val_score(model2,X_test,y_test,cv=10)\n",
    "print(cross_val_score(model2,X_test,y_test,cv=10))"
   ]
  },
  {
   "cell_type": "code",
   "execution_count": 43,
   "metadata": {},
   "outputs": [
    {
     "name": "stdout",
     "output_type": "stream",
     "text": [
      "Mean is : 0.7732595259525953\n"
     ]
    }
   ],
   "source": [
    "x = statistics.mean(scores) \n",
    "\n",
    "# Printing the mean \n",
    "print(\"Mean is :\", x) "
   ]
  },
  {
   "cell_type": "code",
   "execution_count": 44,
   "metadata": {},
   "outputs": [
    {
     "name": "stdout",
     "output_type": "stream",
     "text": [
      "[[640  34]\n",
      " [176 147]]\n"
     ]
    }
   ],
   "source": [
    "# save confusion matrix and slice into four pieces\n",
    "confusion = metrics.confusion_matrix(y_test, y_pred)\n",
    "print(confusion)\n",
    "#[row, column]\n",
    "TP = confusion[1, 1]\n",
    "TN = confusion[0, 0]\n",
    "FP = confusion[0, 1]\n",
    "FN = confusion[1, 0]\n",
    "classification_error = (FP + FN) / float(TP + TN + FP + FN)"
   ]
  },
  {
   "cell_type": "markdown",
   "metadata": {},
   "source": [
    "### Classification Error: Overall, how often is the classifier incorrect?"
   ]
  },
  {
   "cell_type": "code",
   "execution_count": 45,
   "metadata": {},
   "outputs": [
    {
     "name": "stdout",
     "output_type": "stream",
     "text": [
      "0.21063189568706117\n",
      "0.2106318956870612\n"
     ]
    }
   ],
   "source": [
    "\n",
    "print(classification_error)\n",
    "print(1 - metrics.accuracy_score(y_test, y_pred))"
   ]
  },
  {
   "cell_type": "markdown",
   "metadata": {},
   "source": [
    "### Specificity: When the actual value is negative, how often is the prediction correct?"
   ]
  },
  {
   "cell_type": "code",
   "execution_count": 46,
   "metadata": {},
   "outputs": [
    {
     "name": "stdout",
     "output_type": "stream",
     "text": [
      "0.9495548961424333\n"
     ]
    }
   ],
   "source": [
    "specificity = TN / (TN + FP)\n",
    "\n",
    "print(specificity)"
   ]
  },
  {
   "cell_type": "code",
   "execution_count": 47,
   "metadata": {
    "scrolled": true
   },
   "outputs": [
    {
     "name": "stdout",
     "output_type": "stream",
     "text": [
      "              precision    recall  f1-score   support\n",
      "\n",
      "     No Risk       0.78      0.95      0.86       674\n",
      "        Risk       0.81      0.46      0.58       323\n",
      "\n",
      "    accuracy                           0.79       997\n",
      "   macro avg       0.80      0.70      0.72       997\n",
      "weighted avg       0.79      0.79      0.77       997\n",
      "\n",
      "Accuracy Score : 0.7893681043129388\n"
     ]
    }
   ],
   "source": [
    "print(classification_report(y_test,y_pred))\n",
    "print ('Accuracy Score :',accuracy_score(y_test,y_pred))"
   ]
  },
  {
   "cell_type": "code",
   "execution_count": 48,
   "metadata": {},
   "outputs": [
    {
     "name": "stdout",
     "output_type": "stream",
     "text": [
      "Accuracy score on training data: 0.7804\n"
     ]
    }
   ],
   "source": [
    "predictions = model2.fit(X_test, y_test).predict(X_train)\n",
    "print(\"Accuracy score on training data: {:.4f}\".format(accuracy_score(y_train, predictions)))"
   ]
  },
  {
   "cell_type": "markdown",
   "metadata": {},
   "source": [
    "# Decision Tree"
   ]
  },
  {
   "cell_type": "code",
   "execution_count": 49,
   "metadata": {},
   "outputs": [
    {
     "data": {
      "text/plain": [
       "DecisionTreeClassifier(class_weight=None, criterion='gini', max_depth=None,\n",
       "                       max_features=None, max_leaf_nodes=None,\n",
       "                       min_impurity_decrease=0.0, min_impurity_split=None,\n",
       "                       min_samples_leaf=1, min_samples_split=2,\n",
       "                       min_weight_fraction_leaf=0.0, presort=False,\n",
       "                       random_state=None, splitter='best')"
      ]
     },
     "execution_count": 49,
     "metadata": {},
     "output_type": "execute_result"
    }
   ],
   "source": [
    "#Fit the Decision Tree model to the data\n",
    "model3.fit (X_test,y_test)"
   ]
  },
  {
   "cell_type": "code",
   "execution_count": 50,
   "metadata": {},
   "outputs": [],
   "source": [
    "# Predict Decision Tree on the data and save it as y_pred\n",
    "y_pred  = model3.predict(X_test)"
   ]
  },
  {
   "cell_type": "code",
   "execution_count": 51,
   "metadata": {},
   "outputs": [
    {
     "name": "stdout",
     "output_type": "stream",
     "text": [
      "[[674   0]\n",
      " [  0 323]]\n"
     ]
    }
   ],
   "source": [
    "# Perform a confusion matrix and take a proper look at the prediction\n",
    "cm3 = confusion_matrix(y_test,y_pred)\n",
    "print(cm3)"
   ]
  },
  {
   "cell_type": "code",
   "execution_count": 52,
   "metadata": {},
   "outputs": [
    {
     "name": "stdout",
     "output_type": "stream",
     "text": [
      "[0.67326733 0.74257426 0.69306931 0.7        0.64646465 0.70707071\n",
      " 0.65656566 0.64646465 0.68686869 0.77777778]\n"
     ]
    }
   ],
   "source": [
    "# Use cross_val_score on the test data and the following is the score after 5 folds \n",
    "scores=cross_val_score(model3,X_test,y_test,cv=10)\n",
    "print(cross_val_score(model3,X_test,y_test,cv=10))"
   ]
  },
  {
   "cell_type": "code",
   "execution_count": 53,
   "metadata": {},
   "outputs": [
    {
     "name": "stdout",
     "output_type": "stream",
     "text": [
      "Mean is : 0.688001800180018\n"
     ]
    }
   ],
   "source": [
    "x = statistics.mean(scores) \n",
    "\n",
    "# Printing the mean \n",
    "print(\"Mean is :\", x) "
   ]
  },
  {
   "cell_type": "code",
   "execution_count": 54,
   "metadata": {},
   "outputs": [
    {
     "name": "stdout",
     "output_type": "stream",
     "text": [
      "[[674   0]\n",
      " [  0 323]]\n"
     ]
    }
   ],
   "source": [
    "# save confusion matrix and slice into four pieces\n",
    "confusion = metrics.confusion_matrix(y_test, y_pred)\n",
    "print(confusion)\n",
    "#[row, column]\n",
    "TP = confusion[1, 1]\n",
    "TN = confusion[0, 0]\n",
    "FP = confusion[0, 1]\n",
    "FN = confusion[1, 0]\n",
    "classification_error = (FP + FN) / float(TP + TN + FP + FN)"
   ]
  },
  {
   "cell_type": "markdown",
   "metadata": {},
   "source": [
    "### Classification Error: Overall, how often is the classifier incorrect?"
   ]
  },
  {
   "cell_type": "code",
   "execution_count": 55,
   "metadata": {},
   "outputs": [
    {
     "name": "stdout",
     "output_type": "stream",
     "text": [
      "0.0\n",
      "0.0\n"
     ]
    }
   ],
   "source": [
    "\n",
    "print(classification_error)\n",
    "print(1 - metrics.accuracy_score(y_test, y_pred))"
   ]
  },
  {
   "cell_type": "markdown",
   "metadata": {},
   "source": [
    "### Specificity: When the actual value is negative, how often is the prediction correct?\n"
   ]
  },
  {
   "cell_type": "code",
   "execution_count": 56,
   "metadata": {},
   "outputs": [
    {
     "name": "stdout",
     "output_type": "stream",
     "text": [
      "1.0\n"
     ]
    }
   ],
   "source": [
    "specificity = TN / (TN + FP)\n",
    "\n",
    "print(specificity)"
   ]
  },
  {
   "cell_type": "code",
   "execution_count": 57,
   "metadata": {
    "scrolled": false
   },
   "outputs": [
    {
     "name": "stdout",
     "output_type": "stream",
     "text": [
      "              precision    recall  f1-score   support\n",
      "\n",
      "     No Risk       1.00      1.00      1.00       674\n",
      "        Risk       1.00      1.00      1.00       323\n",
      "\n",
      "    accuracy                           1.00       997\n",
      "   macro avg       1.00      1.00      1.00       997\n",
      "weighted avg       1.00      1.00      1.00       997\n",
      "\n",
      "Accuracy Score : 1.0\n"
     ]
    }
   ],
   "source": [
    "print(classification_report(y_test,y_pred))\n",
    "print ('Accuracy Score :',accuracy_score(y_test,y_pred))"
   ]
  },
  {
   "cell_type": "code",
   "execution_count": 58,
   "metadata": {},
   "outputs": [
    {
     "name": "stdout",
     "output_type": "stream",
     "text": [
      "Accuracy score on training data: 0.6881\n"
     ]
    }
   ],
   "source": [
    "predictions = model3.fit(X_test, y_test).predict(X_train)\n",
    "print(\"Accuracy score on training data: {:.4f}\".format(accuracy_score(y_train, predictions)))"
   ]
  },
  {
   "cell_type": "markdown",
   "metadata": {},
   "source": [
    "# RandomForestClassifier"
   ]
  },
  {
   "cell_type": "code",
   "execution_count": 59,
   "metadata": {},
   "outputs": [
    {
     "data": {
      "text/plain": [
       "RandomForestClassifier(bootstrap=True, class_weight=None, criterion='gini',\n",
       "                       max_depth=None, max_features='auto', max_leaf_nodes=None,\n",
       "                       min_impurity_decrease=0.0, min_impurity_split=None,\n",
       "                       min_samples_leaf=1, min_samples_split=2,\n",
       "                       min_weight_fraction_leaf=0.0, n_estimators=10,\n",
       "                       n_jobs=None, oob_score=False, random_state=None,\n",
       "                       verbose=0, warm_start=False)"
      ]
     },
     "execution_count": 59,
     "metadata": {},
     "output_type": "execute_result"
    }
   ],
   "source": [
    "#Fit the RandomForestClassifier model to the data\n",
    "model4.fit (X_test,y_test)"
   ]
  },
  {
   "cell_type": "code",
   "execution_count": 60,
   "metadata": {},
   "outputs": [],
   "source": [
    "# Predict RandomForestclassifier on the data and save it as y_pred\n",
    "y_pred  = model4.predict(X_test)"
   ]
  },
  {
   "cell_type": "code",
   "execution_count": 61,
   "metadata": {},
   "outputs": [
    {
     "name": "stdout",
     "output_type": "stream",
     "text": [
      "[[674   0]\n",
      " [ 13 310]]\n"
     ]
    }
   ],
   "source": [
    "# Perform a confusion matrix and take a proper look at the prediction\n",
    "cm4 = confusion_matrix(y_test,y_pred)\n",
    "print(cm4)"
   ]
  },
  {
   "cell_type": "code",
   "execution_count": 62,
   "metadata": {},
   "outputs": [
    {
     "name": "stdout",
     "output_type": "stream",
     "text": [
      "[0.75247525 0.79207921 0.77227723 0.76       0.6969697  0.73737374\n",
      " 0.78787879 0.71717172 0.72727273 0.75757576]\n"
     ]
    }
   ],
   "source": [
    "# Use cross_val_score on the test data and the following is the score after 5 folds \n",
    "scores=cross_val_score(model4,X_test,y_test,cv=10)\n",
    "print(cross_val_score(model4,X_test,y_test,cv=10))"
   ]
  },
  {
   "cell_type": "code",
   "execution_count": 63,
   "metadata": {},
   "outputs": [
    {
     "name": "stdout",
     "output_type": "stream",
     "text": [
      "Mean is : 0.7461969196919692\n"
     ]
    }
   ],
   "source": [
    "x = statistics.mean(scores) \n",
    "\n",
    "# Printing the mean \n",
    "print(\"Mean is :\", x) "
   ]
  },
  {
   "cell_type": "code",
   "execution_count": 64,
   "metadata": {
    "scrolled": true
   },
   "outputs": [
    {
     "name": "stdout",
     "output_type": "stream",
     "text": [
      "[[674   0]\n",
      " [ 13 310]]\n"
     ]
    }
   ],
   "source": [
    "# save confusion matrix and slice into four pieces\n",
    "confusion = metrics.confusion_matrix(y_test, y_pred)\n",
    "print(confusion)\n",
    "#[row, column]\n",
    "TP = confusion[1, 1]\n",
    "TN = confusion[0, 0]\n",
    "FP = confusion[0, 1]\n",
    "FN = confusion[1, 0]\n",
    "classification_error = (FP + FN) / float(TP + TN + FP + FN)\n"
   ]
  },
  {
   "cell_type": "markdown",
   "metadata": {},
   "source": [
    "### Classification Accuracy: Overall, how often is the classifier correct?"
   ]
  },
  {
   "cell_type": "code",
   "execution_count": 65,
   "metadata": {},
   "outputs": [
    {
     "name": "stdout",
     "output_type": "stream",
     "text": [
      "0.9869608826479438\n",
      "0.9869608826479438\n"
     ]
    }
   ],
   "source": [
    "# use float to perform true division, not integer division\n",
    "print((TP + TN) / float(TP + TN + FP + FN))\n",
    "print(metrics.accuracy_score(y_test, y_pred))"
   ]
  },
  {
   "cell_type": "markdown",
   "metadata": {},
   "source": [
    "### Classification Error: Overall, how often is the classifier incorrect?"
   ]
  },
  {
   "cell_type": "code",
   "execution_count": 66,
   "metadata": {
    "scrolled": true
   },
   "outputs": [
    {
     "name": "stdout",
     "output_type": "stream",
     "text": [
      "0.013039117352056168\n",
      "0.013039117352056206\n"
     ]
    }
   ],
   "source": [
    "\n",
    "print(classification_error)\n",
    "print(1 - metrics.accuracy_score(y_test, y_pred))"
   ]
  },
  {
   "cell_type": "markdown",
   "metadata": {},
   "source": [
    "### Specificity: When the actual value is negative, how often is the prediction correct?\n"
   ]
  },
  {
   "cell_type": "code",
   "execution_count": 67,
   "metadata": {},
   "outputs": [
    {
     "name": "stdout",
     "output_type": "stream",
     "text": [
      "1.0\n"
     ]
    }
   ],
   "source": [
    "specificity = TN / (TN + FP)\n",
    "\n",
    "print(specificity)"
   ]
  },
  {
   "cell_type": "code",
   "execution_count": 68,
   "metadata": {},
   "outputs": [
    {
     "name": "stdout",
     "output_type": "stream",
     "text": [
      "              precision    recall  f1-score   support\n",
      "\n",
      "     No Risk       0.98      1.00      0.99       674\n",
      "        Risk       1.00      0.96      0.98       323\n",
      "\n",
      "    accuracy                           0.99       997\n",
      "   macro avg       0.99      0.98      0.98       997\n",
      "weighted avg       0.99      0.99      0.99       997\n",
      "\n",
      "Accuracy Score : 0.9869608826479438\n"
     ]
    }
   ],
   "source": [
    "print(classification_report(y_test,y_pred))\n",
    "print ('Accuracy Score :',accuracy_score(y_test,y_pred))"
   ]
  },
  {
   "cell_type": "code",
   "execution_count": 69,
   "metadata": {},
   "outputs": [
    {
     "name": "stdout",
     "output_type": "stream",
     "text": [
      "Accuracy score on training data: 0.7583\n"
     ]
    }
   ],
   "source": [
    "predictions = model4.fit(X_test, y_test).predict(X_train)\n",
    "print(\"Accuracy score on training data: {:.4f}\".format(accuracy_score(y_train, predictions)))"
   ]
  },
  {
   "cell_type": "markdown",
   "metadata": {},
   "source": [
    "# LogReg"
   ]
  },
  {
   "cell_type": "code",
   "execution_count": 70,
   "metadata": {},
   "outputs": [
    {
     "data": {
      "text/plain": [
       "LogisticRegression(C=1.0, class_weight=None, dual=False, fit_intercept=True,\n",
       "                   intercept_scaling=1, l1_ratio=None, max_iter=100,\n",
       "                   multi_class='warn', n_jobs=None, penalty='l2',\n",
       "                   random_state=None, solver='warn', tol=0.0001, verbose=0,\n",
       "                   warm_start=False)"
      ]
     },
     "execution_count": 70,
     "metadata": {},
     "output_type": "execute_result"
    }
   ],
   "source": [
    "#Fit the LogisticRegression model to the data\n",
    "model5.fit (X_test,y_test)"
   ]
  },
  {
   "cell_type": "code",
   "execution_count": 71,
   "metadata": {},
   "outputs": [],
   "source": [
    "# Predict LogisticRegression on the data and save it as y_pred\n",
    "y_pred  = model5.predict(X_test)"
   ]
  },
  {
   "cell_type": "code",
   "execution_count": 72,
   "metadata": {},
   "outputs": [
    {
     "name": "stdout",
     "output_type": "stream",
     "text": [
      "[[608  66]\n",
      " [130 193]]\n"
     ]
    }
   ],
   "source": [
    "# Perform a confusion matrix and take a proper look at the prediction\n",
    "cm5 = confusion_matrix(y_test,y_pred)\n",
    "print(cm5)"
   ]
  },
  {
   "cell_type": "code",
   "execution_count": 73,
   "metadata": {},
   "outputs": [
    {
     "name": "stdout",
     "output_type": "stream",
     "text": [
      "[0.74257426 0.78217822 0.81188119 0.74       0.76767677 0.7979798\n",
      " 0.77777778 0.78787879 0.76767677 0.76767677]\n"
     ]
    }
   ],
   "source": [
    "# Use cross_val_score on the test data and the following is the score after 5 folds\n",
    "scores=cross_val_score(model5,X_test,y_test,cv=10)\n",
    "print(cross_val_score(model5,X_test,y_test,cv=10))"
   ]
  },
  {
   "cell_type": "code",
   "execution_count": 74,
   "metadata": {},
   "outputs": [
    {
     "name": "stdout",
     "output_type": "stream",
     "text": [
      "Mean is : 0.7743300330033003\n"
     ]
    }
   ],
   "source": [
    "x = statistics.mean(scores) \n",
    "\n",
    "# Printing the mean \n",
    "print(\"Mean is :\", x) "
   ]
  },
  {
   "cell_type": "code",
   "execution_count": 75,
   "metadata": {},
   "outputs": [
    {
     "name": "stdout",
     "output_type": "stream",
     "text": [
      "[[608  66]\n",
      " [130 193]]\n"
     ]
    }
   ],
   "source": [
    "# save confusion matrix and slice into four pieces\n",
    "confusion = metrics.confusion_matrix(y_test, y_pred)\n",
    "print(confusion)\n",
    "#[row, column]\n",
    "TP = confusion[1, 1]\n",
    "TN = confusion[0, 0]\n",
    "FP = confusion[0, 1]\n",
    "FN = confusion[1, 0]\n"
   ]
  },
  {
   "cell_type": "markdown",
   "metadata": {},
   "source": [
    "### Classification Error: Overall, how often is the classifier incorrect?"
   ]
  },
  {
   "cell_type": "code",
   "execution_count": 76,
   "metadata": {
    "scrolled": true
   },
   "outputs": [
    {
     "name": "stdout",
     "output_type": "stream",
     "text": [
      "0.19658976930792377\n",
      "0.19658976930792382\n"
     ]
    }
   ],
   "source": [
    "classification_error = (FP + FN) / float(TP + TN + FP + FN)\n",
    "\n",
    "print(classification_error)\n",
    "print(1 - metrics.accuracy_score(y_test, y_pred))"
   ]
  },
  {
   "cell_type": "markdown",
   "metadata": {},
   "source": [
    "### Specificity: When the actual value is negative, how often is the prediction correct?\n"
   ]
  },
  {
   "cell_type": "code",
   "execution_count": 77,
   "metadata": {},
   "outputs": [
    {
     "name": "stdout",
     "output_type": "stream",
     "text": [
      "0.9020771513353115\n"
     ]
    }
   ],
   "source": [
    "specificity = TN / (TN + FP)\n",
    "\n",
    "print(specificity)"
   ]
  },
  {
   "cell_type": "code",
   "execution_count": 78,
   "metadata": {},
   "outputs": [
    {
     "name": "stdout",
     "output_type": "stream",
     "text": [
      "              precision    recall  f1-score   support\n",
      "\n",
      "     No Risk       0.82      0.90      0.86       674\n",
      "        Risk       0.75      0.60      0.66       323\n",
      "\n",
      "    accuracy                           0.80       997\n",
      "   macro avg       0.78      0.75      0.76       997\n",
      "weighted avg       0.80      0.80      0.80       997\n",
      "\n",
      "Accuracy Score : 0.8034102306920762\n"
     ]
    }
   ],
   "source": [
    "print(classification_report(y_test,y_pred))\n",
    "print ('Accuracy Score :',accuracy_score(y_test,y_pred))"
   ]
  },
  {
   "cell_type": "code",
   "execution_count": 79,
   "metadata": {},
   "outputs": [
    {
     "name": "stdout",
     "output_type": "stream",
     "text": [
      "Accuracy score on training data: 0.7817\n"
     ]
    }
   ],
   "source": [
    "predictions = model5.fit(X_test, y_test).predict(X_train)\n",
    "print(\"Accuracy score on training data: {:.4f}\".format(accuracy_score(y_train, predictions)))"
   ]
  },
  {
   "cell_type": "markdown",
   "metadata": {},
   "source": [
    "# SGDClassifier"
   ]
  },
  {
   "cell_type": "code",
   "execution_count": 80,
   "metadata": {},
   "outputs": [
    {
     "data": {
      "text/plain": [
       "SGDClassifier(alpha=0.0001, average=False, class_weight=None,\n",
       "              early_stopping=False, epsilon=0.1, eta0=0.0, fit_intercept=True,\n",
       "              l1_ratio=0.15, learning_rate='optimal', loss='hinge',\n",
       "              max_iter=1000, n_iter_no_change=5, n_jobs=None, penalty='l2',\n",
       "              power_t=0.5, random_state=None, shuffle=True, tol=0.001,\n",
       "              validation_fraction=0.1, verbose=0, warm_start=False)"
      ]
     },
     "execution_count": 80,
     "metadata": {},
     "output_type": "execute_result"
    }
   ],
   "source": [
    "#Fit the SGDClassifier model to the data\n",
    "model6.fit (X_test,y_test)"
   ]
  },
  {
   "cell_type": "code",
   "execution_count": 81,
   "metadata": {},
   "outputs": [],
   "source": [
    "# Predict SGDClassifier on the data and save it as y_pred\n",
    "y_pred  = model6.predict(X_test)"
   ]
  },
  {
   "cell_type": "code",
   "execution_count": 82,
   "metadata": {},
   "outputs": [
    {
     "name": "stdout",
     "output_type": "stream",
     "text": [
      "[0.74257426 0.78217822 0.79207921 0.63       0.78787879 0.75757576\n",
      " 0.75757576 0.76767677 0.74747475 0.77777778]\n"
     ]
    }
   ],
   "source": [
    "# Use cross_val_score on the test data and the following is the score after 5 folds\n",
    "scores=cross_val_score(model6,X_test,y_test,cv=10)\n",
    "print(cross_val_score(model6,X_test,y_test,cv=10))"
   ]
  },
  {
   "cell_type": "code",
   "execution_count": 83,
   "metadata": {},
   "outputs": [
    {
     "name": "stdout",
     "output_type": "stream",
     "text": [
      "Mean is : 0.7261454145414541\n"
     ]
    }
   ],
   "source": [
    "x = statistics.mean(scores) \n",
    "\n",
    "# Printing the mean \n",
    "print(\"Mean is :\", x) "
   ]
  },
  {
   "cell_type": "code",
   "execution_count": 84,
   "metadata": {},
   "outputs": [
    {
     "name": "stdout",
     "output_type": "stream",
     "text": [
      "[[662  12]\n",
      " [240  83]]\n"
     ]
    }
   ],
   "source": [
    "# save confusion matrix and slice into four pieces\n",
    "confusion = metrics.confusion_matrix(y_test, y_pred)\n",
    "print(confusion)\n",
    "#[row, column]\n",
    "TP = confusion[1, 1]\n",
    "TN = confusion[0, 0]\n",
    "FP = confusion[0, 1]\n",
    "FN = confusion[1, 0]"
   ]
  },
  {
   "cell_type": "markdown",
   "metadata": {},
   "source": [
    "### Classification Accuracy: Overall, how often is the classifier correct?\n"
   ]
  },
  {
   "cell_type": "code",
   "execution_count": 85,
   "metadata": {},
   "outputs": [
    {
     "name": "stdout",
     "output_type": "stream",
     "text": [
      "0.7472417251755266\n",
      "0.7472417251755266\n"
     ]
    }
   ],
   "source": [
    "# use float to perform true division, not integer division\n",
    "print((TP + TN) / float(TP + TN + FP + FN))\n",
    "print(metrics.accuracy_score(y_test, y_pred))"
   ]
  },
  {
   "cell_type": "markdown",
   "metadata": {},
   "source": [
    "### Classification Error: Overall, how often is the classifier incorrect?"
   ]
  },
  {
   "cell_type": "code",
   "execution_count": 86,
   "metadata": {},
   "outputs": [
    {
     "name": "stdout",
     "output_type": "stream",
     "text": [
      "0.25275827482447344\n",
      "0.25275827482447344\n"
     ]
    }
   ],
   "source": [
    "classification_error = (FP + FN) / float(TP + TN + FP + FN)\n",
    "\n",
    "print(classification_error)\n",
    "print(1 - metrics.accuracy_score(y_test, y_pred))"
   ]
  },
  {
   "cell_type": "markdown",
   "metadata": {},
   "source": [
    "### Sensitivity: When the actual value is positive, how often is the prediction correct?"
   ]
  },
  {
   "cell_type": "code",
   "execution_count": 87,
   "metadata": {},
   "outputs": [
    {
     "name": "stdout",
     "output_type": "stream",
     "text": [
      "0.25696594427244585\n"
     ]
    }
   ],
   "source": [
    "sensitivity = TP / float(FN + TP)\n",
    "\n",
    "print(sensitivity)\n"
   ]
  },
  {
   "cell_type": "markdown",
   "metadata": {},
   "source": [
    "### Specificity: When the actual value is negative, how often is the prediction correct?\n"
   ]
  },
  {
   "cell_type": "code",
   "execution_count": 88,
   "metadata": {},
   "outputs": [
    {
     "name": "stdout",
     "output_type": "stream",
     "text": [
      "0.9821958456973294\n"
     ]
    }
   ],
   "source": [
    "specificity = TN / (TN + FP)\n",
    "\n",
    "print(specificity)"
   ]
  },
  {
   "cell_type": "markdown",
   "metadata": {},
   "source": [
    "### False Positive Rate: When the actual value is negative, how often is the prediction incorrect?"
   ]
  },
  {
   "cell_type": "code",
   "execution_count": 89,
   "metadata": {},
   "outputs": [
    {
     "name": "stdout",
     "output_type": "stream",
     "text": [
      "0.017804154302670624\n",
      "0.017804154302670572\n"
     ]
    }
   ],
   "source": [
    "false_positive_rate = FP / float(TN + FP)\n",
    "\n",
    "print(false_positive_rate)\n",
    "print(1 - specificity)"
   ]
  },
  {
   "cell_type": "markdown",
   "metadata": {},
   "source": [
    "### Precision: When a positive value is predicted, how often is the prediction correct?"
   ]
  },
  {
   "cell_type": "code",
   "execution_count": 90,
   "metadata": {},
   "outputs": [
    {
     "name": "stdout",
     "output_type": "stream",
     "text": [
      "Precision: 0.8736842105263158\n"
     ]
    }
   ],
   "source": [
    "precision = TP / float(TP + FP)\n",
    "\n",
    "print(\"Precision:\",precision)"
   ]
  },
  {
   "cell_type": "code",
   "execution_count": 91,
   "metadata": {},
   "outputs": [
    {
     "name": "stdout",
     "output_type": "stream",
     "text": [
      "              precision    recall  f1-score   support\n",
      "\n",
      "     No Risk       0.73      0.98      0.84       674\n",
      "        Risk       0.87      0.26      0.40       323\n",
      "\n",
      "    accuracy                           0.75       997\n",
      "   macro avg       0.80      0.62      0.62       997\n",
      "weighted avg       0.78      0.75      0.70       997\n",
      "\n",
      "Accuracy Score : 0.7472417251755266\n"
     ]
    }
   ],
   "source": [
    "print(classification_report(y_test,y_pred))\n",
    "print ('Accuracy Score :',accuracy_score(y_test,y_pred))"
   ]
  },
  {
   "cell_type": "code",
   "execution_count": 92,
   "metadata": {},
   "outputs": [
    {
     "name": "stdout",
     "output_type": "stream",
     "text": [
      "Accuracy score on training data: 0.7616\n"
     ]
    }
   ],
   "source": [
    "predictions = model6.fit(X_test, y_test).predict(X_train)\n",
    "print(\"Accuracy score on training data: {:.4f}\".format(accuracy_score(y_train, predictions)))"
   ]
  },
  {
   "cell_type": "markdown",
   "metadata": {},
   "source": [
    "# Buisness Questions "
   ]
  },
  {
   "cell_type": "markdown",
   "metadata": {},
   "source": [
    "### (1) Is there any duplicates found in the data is so how many are there ?"
   ]
  },
  {
   "cell_type": "code",
   "execution_count": 93,
   "metadata": {
    "scrolled": true
   },
   "outputs": [
    {
     "data": {
      "text/html": [
       "<div>\n",
       "<style scoped>\n",
       "    .dataframe tbody tr th:only-of-type {\n",
       "        vertical-align: middle;\n",
       "    }\n",
       "\n",
       "    .dataframe tbody tr th {\n",
       "        vertical-align: top;\n",
       "    }\n",
       "\n",
       "    .dataframe thead th {\n",
       "        text-align: right;\n",
       "    }\n",
       "</style>\n",
       "<table border=\"1\" class=\"dataframe\">\n",
       "  <thead>\n",
       "    <tr style=\"text-align: right;\">\n",
       "      <th></th>\n",
       "      <th>checkingstatus</th>\n",
       "      <th>loanduration</th>\n",
       "      <th>credithistory</th>\n",
       "      <th>loanpurpose</th>\n",
       "      <th>loanamount</th>\n",
       "      <th>existingsavings</th>\n",
       "      <th>employmentduration</th>\n",
       "      <th>installmentpercent</th>\n",
       "      <th>sex</th>\n",
       "      <th>othersonloan</th>\n",
       "      <th>currentresidenceduration</th>\n",
       "      <th>ownsproperty</th>\n",
       "      <th>age</th>\n",
       "      <th>installmentplans</th>\n",
       "      <th>housing</th>\n",
       "      <th>existingcreditscount</th>\n",
       "      <th>job</th>\n",
       "      <th>dependents</th>\n",
       "      <th>telephone</th>\n",
       "      <th>foreignworker</th>\n",
       "      <th>risk</th>\n",
       "    </tr>\n",
       "  </thead>\n",
       "  <tbody>\n",
       "    <tr>\n",
       "      <th>723</th>\n",
       "      <td>less_0</td>\n",
       "      <td>4</td>\n",
       "      <td>all_credits_paid_back</td>\n",
       "      <td>car_new</td>\n",
       "      <td>250</td>\n",
       "      <td>less_100</td>\n",
       "      <td>unemployed</td>\n",
       "      <td>1</td>\n",
       "      <td>female</td>\n",
       "      <td>none</td>\n",
       "      <td>2</td>\n",
       "      <td>real_estate</td>\n",
       "      <td>19</td>\n",
       "      <td>none</td>\n",
       "      <td>rent</td>\n",
       "      <td>1</td>\n",
       "      <td>skilled</td>\n",
       "      <td>1</td>\n",
       "      <td>none</td>\n",
       "      <td>yes</td>\n",
       "      <td>No Risk</td>\n",
       "    </tr>\n",
       "    <tr>\n",
       "      <th>808</th>\n",
       "      <td>less_0</td>\n",
       "      <td>4</td>\n",
       "      <td>all_credits_paid_back</td>\n",
       "      <td>car_new</td>\n",
       "      <td>250</td>\n",
       "      <td>less_100</td>\n",
       "      <td>unemployed</td>\n",
       "      <td>1</td>\n",
       "      <td>female</td>\n",
       "      <td>none</td>\n",
       "      <td>2</td>\n",
       "      <td>real_estate</td>\n",
       "      <td>19</td>\n",
       "      <td>none</td>\n",
       "      <td>rent</td>\n",
       "      <td>1</td>\n",
       "      <td>skilled</td>\n",
       "      <td>1</td>\n",
       "      <td>none</td>\n",
       "      <td>yes</td>\n",
       "      <td>No Risk</td>\n",
       "    </tr>\n",
       "    <tr>\n",
       "      <th>1854</th>\n",
       "      <td>less_0</td>\n",
       "      <td>4</td>\n",
       "      <td>all_credits_paid_back</td>\n",
       "      <td>car_new</td>\n",
       "      <td>250</td>\n",
       "      <td>less_100</td>\n",
       "      <td>unemployed</td>\n",
       "      <td>1</td>\n",
       "      <td>male</td>\n",
       "      <td>none</td>\n",
       "      <td>2</td>\n",
       "      <td>real_estate</td>\n",
       "      <td>19</td>\n",
       "      <td>stores</td>\n",
       "      <td>rent</td>\n",
       "      <td>1</td>\n",
       "      <td>skilled</td>\n",
       "      <td>1</td>\n",
       "      <td>none</td>\n",
       "      <td>yes</td>\n",
       "      <td>No Risk</td>\n",
       "    </tr>\n",
       "    <tr>\n",
       "      <th>1946</th>\n",
       "      <td>less_0</td>\n",
       "      <td>4</td>\n",
       "      <td>all_credits_paid_back</td>\n",
       "      <td>car_new</td>\n",
       "      <td>250</td>\n",
       "      <td>less_100</td>\n",
       "      <td>unemployed</td>\n",
       "      <td>1</td>\n",
       "      <td>female</td>\n",
       "      <td>none</td>\n",
       "      <td>2</td>\n",
       "      <td>real_estate</td>\n",
       "      <td>19</td>\n",
       "      <td>none</td>\n",
       "      <td>rent</td>\n",
       "      <td>1</td>\n",
       "      <td>skilled</td>\n",
       "      <td>1</td>\n",
       "      <td>none</td>\n",
       "      <td>yes</td>\n",
       "      <td>No Risk</td>\n",
       "    </tr>\n",
       "    <tr>\n",
       "      <th>2119</th>\n",
       "      <td>less_0</td>\n",
       "      <td>4</td>\n",
       "      <td>all_credits_paid_back</td>\n",
       "      <td>car_new</td>\n",
       "      <td>250</td>\n",
       "      <td>less_100</td>\n",
       "      <td>unemployed</td>\n",
       "      <td>1</td>\n",
       "      <td>female</td>\n",
       "      <td>none</td>\n",
       "      <td>2</td>\n",
       "      <td>real_estate</td>\n",
       "      <td>19</td>\n",
       "      <td>none</td>\n",
       "      <td>rent</td>\n",
       "      <td>1</td>\n",
       "      <td>skilled</td>\n",
       "      <td>1</td>\n",
       "      <td>none</td>\n",
       "      <td>yes</td>\n",
       "      <td>No Risk</td>\n",
       "    </tr>\n",
       "    <tr>\n",
       "      <th>2214</th>\n",
       "      <td>less_0</td>\n",
       "      <td>4</td>\n",
       "      <td>all_credits_paid_back</td>\n",
       "      <td>car_new</td>\n",
       "      <td>250</td>\n",
       "      <td>less_100</td>\n",
       "      <td>unemployed</td>\n",
       "      <td>1</td>\n",
       "      <td>female</td>\n",
       "      <td>none</td>\n",
       "      <td>2</td>\n",
       "      <td>real_estate</td>\n",
       "      <td>19</td>\n",
       "      <td>none</td>\n",
       "      <td>rent</td>\n",
       "      <td>1</td>\n",
       "      <td>skilled</td>\n",
       "      <td>1</td>\n",
       "      <td>none</td>\n",
       "      <td>yes</td>\n",
       "      <td>No Risk</td>\n",
       "    </tr>\n",
       "    <tr>\n",
       "      <th>2933</th>\n",
       "      <td>less_0</td>\n",
       "      <td>4</td>\n",
       "      <td>no_credits</td>\n",
       "      <td>car_new</td>\n",
       "      <td>250</td>\n",
       "      <td>less_100</td>\n",
       "      <td>less_1</td>\n",
       "      <td>1</td>\n",
       "      <td>female</td>\n",
       "      <td>none</td>\n",
       "      <td>1</td>\n",
       "      <td>real_estate</td>\n",
       "      <td>19</td>\n",
       "      <td>none</td>\n",
       "      <td>rent</td>\n",
       "      <td>1</td>\n",
       "      <td>skilled</td>\n",
       "      <td>1</td>\n",
       "      <td>none</td>\n",
       "      <td>yes</td>\n",
       "      <td>No Risk</td>\n",
       "    </tr>\n",
       "    <tr>\n",
       "      <th>3062</th>\n",
       "      <td>less_0</td>\n",
       "      <td>4</td>\n",
       "      <td>all_credits_paid_back</td>\n",
       "      <td>car_new</td>\n",
       "      <td>250</td>\n",
       "      <td>less_100</td>\n",
       "      <td>unemployed</td>\n",
       "      <td>1</td>\n",
       "      <td>female</td>\n",
       "      <td>none</td>\n",
       "      <td>1</td>\n",
       "      <td>real_estate</td>\n",
       "      <td>19</td>\n",
       "      <td>none</td>\n",
       "      <td>rent</td>\n",
       "      <td>1</td>\n",
       "      <td>skilled</td>\n",
       "      <td>1</td>\n",
       "      <td>none</td>\n",
       "      <td>yes</td>\n",
       "      <td>No Risk</td>\n",
       "    </tr>\n",
       "    <tr>\n",
       "      <th>3080</th>\n",
       "      <td>less_0</td>\n",
       "      <td>4</td>\n",
       "      <td>all_credits_paid_back</td>\n",
       "      <td>car_new</td>\n",
       "      <td>250</td>\n",
       "      <td>less_100</td>\n",
       "      <td>unemployed</td>\n",
       "      <td>1</td>\n",
       "      <td>male</td>\n",
       "      <td>none</td>\n",
       "      <td>1</td>\n",
       "      <td>real_estate</td>\n",
       "      <td>19</td>\n",
       "      <td>stores</td>\n",
       "      <td>rent</td>\n",
       "      <td>1</td>\n",
       "      <td>unskilled</td>\n",
       "      <td>1</td>\n",
       "      <td>none</td>\n",
       "      <td>yes</td>\n",
       "      <td>No Risk</td>\n",
       "    </tr>\n",
       "    <tr>\n",
       "      <th>3081</th>\n",
       "      <td>less_0</td>\n",
       "      <td>4</td>\n",
       "      <td>all_credits_paid_back</td>\n",
       "      <td>car_new</td>\n",
       "      <td>250</td>\n",
       "      <td>less_100</td>\n",
       "      <td>unemployed</td>\n",
       "      <td>1</td>\n",
       "      <td>female</td>\n",
       "      <td>none</td>\n",
       "      <td>2</td>\n",
       "      <td>real_estate</td>\n",
       "      <td>19</td>\n",
       "      <td>none</td>\n",
       "      <td>rent</td>\n",
       "      <td>1</td>\n",
       "      <td>skilled</td>\n",
       "      <td>1</td>\n",
       "      <td>none</td>\n",
       "      <td>yes</td>\n",
       "      <td>No Risk</td>\n",
       "    </tr>\n",
       "    <tr>\n",
       "      <th>3140</th>\n",
       "      <td>less_0</td>\n",
       "      <td>4</td>\n",
       "      <td>all_credits_paid_back</td>\n",
       "      <td>car_new</td>\n",
       "      <td>250</td>\n",
       "      <td>less_100</td>\n",
       "      <td>unemployed</td>\n",
       "      <td>1</td>\n",
       "      <td>male</td>\n",
       "      <td>none</td>\n",
       "      <td>1</td>\n",
       "      <td>real_estate</td>\n",
       "      <td>19</td>\n",
       "      <td>stores</td>\n",
       "      <td>rent</td>\n",
       "      <td>1</td>\n",
       "      <td>skilled</td>\n",
       "      <td>1</td>\n",
       "      <td>none</td>\n",
       "      <td>yes</td>\n",
       "      <td>No Risk</td>\n",
       "    </tr>\n",
       "    <tr>\n",
       "      <th>3236</th>\n",
       "      <td>less_0</td>\n",
       "      <td>4</td>\n",
       "      <td>all_credits_paid_back</td>\n",
       "      <td>car_new</td>\n",
       "      <td>250</td>\n",
       "      <td>less_100</td>\n",
       "      <td>unemployed</td>\n",
       "      <td>1</td>\n",
       "      <td>female</td>\n",
       "      <td>none</td>\n",
       "      <td>1</td>\n",
       "      <td>real_estate</td>\n",
       "      <td>19</td>\n",
       "      <td>none</td>\n",
       "      <td>rent</td>\n",
       "      <td>1</td>\n",
       "      <td>skilled</td>\n",
       "      <td>1</td>\n",
       "      <td>none</td>\n",
       "      <td>yes</td>\n",
       "      <td>No Risk</td>\n",
       "    </tr>\n",
       "    <tr>\n",
       "      <th>3248</th>\n",
       "      <td>less_0</td>\n",
       "      <td>4</td>\n",
       "      <td>all_credits_paid_back</td>\n",
       "      <td>car_new</td>\n",
       "      <td>250</td>\n",
       "      <td>less_100</td>\n",
       "      <td>unemployed</td>\n",
       "      <td>1</td>\n",
       "      <td>male</td>\n",
       "      <td>none</td>\n",
       "      <td>2</td>\n",
       "      <td>real_estate</td>\n",
       "      <td>19</td>\n",
       "      <td>stores</td>\n",
       "      <td>rent</td>\n",
       "      <td>1</td>\n",
       "      <td>skilled</td>\n",
       "      <td>1</td>\n",
       "      <td>none</td>\n",
       "      <td>yes</td>\n",
       "      <td>No Risk</td>\n",
       "    </tr>\n",
       "    <tr>\n",
       "      <th>3314</th>\n",
       "      <td>less_0</td>\n",
       "      <td>4</td>\n",
       "      <td>no_credits</td>\n",
       "      <td>car_new</td>\n",
       "      <td>250</td>\n",
       "      <td>less_100</td>\n",
       "      <td>unemployed</td>\n",
       "      <td>1</td>\n",
       "      <td>male</td>\n",
       "      <td>none</td>\n",
       "      <td>2</td>\n",
       "      <td>real_estate</td>\n",
       "      <td>19</td>\n",
       "      <td>none</td>\n",
       "      <td>rent</td>\n",
       "      <td>1</td>\n",
       "      <td>skilled</td>\n",
       "      <td>1</td>\n",
       "      <td>none</td>\n",
       "      <td>yes</td>\n",
       "      <td>No Risk</td>\n",
       "    </tr>\n",
       "    <tr>\n",
       "      <th>3497</th>\n",
       "      <td>less_0</td>\n",
       "      <td>4</td>\n",
       "      <td>all_credits_paid_back</td>\n",
       "      <td>car_new</td>\n",
       "      <td>250</td>\n",
       "      <td>less_100</td>\n",
       "      <td>unemployed</td>\n",
       "      <td>1</td>\n",
       "      <td>female</td>\n",
       "      <td>none</td>\n",
       "      <td>1</td>\n",
       "      <td>real_estate</td>\n",
       "      <td>19</td>\n",
       "      <td>none</td>\n",
       "      <td>rent</td>\n",
       "      <td>1</td>\n",
       "      <td>skilled</td>\n",
       "      <td>1</td>\n",
       "      <td>none</td>\n",
       "      <td>yes</td>\n",
       "      <td>No Risk</td>\n",
       "    </tr>\n",
       "    <tr>\n",
       "      <th>3870</th>\n",
       "      <td>less_0</td>\n",
       "      <td>4</td>\n",
       "      <td>all_credits_paid_back</td>\n",
       "      <td>car_new</td>\n",
       "      <td>250</td>\n",
       "      <td>less_100</td>\n",
       "      <td>unemployed</td>\n",
       "      <td>1</td>\n",
       "      <td>male</td>\n",
       "      <td>none</td>\n",
       "      <td>1</td>\n",
       "      <td>real_estate</td>\n",
       "      <td>19</td>\n",
       "      <td>stores</td>\n",
       "      <td>rent</td>\n",
       "      <td>1</td>\n",
       "      <td>skilled</td>\n",
       "      <td>1</td>\n",
       "      <td>none</td>\n",
       "      <td>yes</td>\n",
       "      <td>No Risk</td>\n",
       "    </tr>\n",
       "    <tr>\n",
       "      <th>4511</th>\n",
       "      <td>less_0</td>\n",
       "      <td>4</td>\n",
       "      <td>all_credits_paid_back</td>\n",
       "      <td>car_new</td>\n",
       "      <td>250</td>\n",
       "      <td>less_100</td>\n",
       "      <td>unemployed</td>\n",
       "      <td>1</td>\n",
       "      <td>male</td>\n",
       "      <td>none</td>\n",
       "      <td>1</td>\n",
       "      <td>real_estate</td>\n",
       "      <td>19</td>\n",
       "      <td>stores</td>\n",
       "      <td>rent</td>\n",
       "      <td>1</td>\n",
       "      <td>skilled</td>\n",
       "      <td>1</td>\n",
       "      <td>none</td>\n",
       "      <td>yes</td>\n",
       "      <td>No Risk</td>\n",
       "    </tr>\n",
       "    <tr>\n",
       "      <th>4735</th>\n",
       "      <td>less_0</td>\n",
       "      <td>4</td>\n",
       "      <td>all_credits_paid_back</td>\n",
       "      <td>car_new</td>\n",
       "      <td>250</td>\n",
       "      <td>less_100</td>\n",
       "      <td>unemployed</td>\n",
       "      <td>1</td>\n",
       "      <td>female</td>\n",
       "      <td>none</td>\n",
       "      <td>1</td>\n",
       "      <td>real_estate</td>\n",
       "      <td>19</td>\n",
       "      <td>none</td>\n",
       "      <td>rent</td>\n",
       "      <td>1</td>\n",
       "      <td>skilled</td>\n",
       "      <td>1</td>\n",
       "      <td>none</td>\n",
       "      <td>yes</td>\n",
       "      <td>No Risk</td>\n",
       "    </tr>\n",
       "  </tbody>\n",
       "</table>\n",
       "</div>"
      ],
      "text/plain": [
       "     checkingstatus  loanduration          credithistory loanpurpose  \\\n",
       "723          less_0             4  all_credits_paid_back     car_new   \n",
       "808          less_0             4  all_credits_paid_back     car_new   \n",
       "1854         less_0             4  all_credits_paid_back     car_new   \n",
       "1946         less_0             4  all_credits_paid_back     car_new   \n",
       "2119         less_0             4  all_credits_paid_back     car_new   \n",
       "2214         less_0             4  all_credits_paid_back     car_new   \n",
       "2933         less_0             4             no_credits     car_new   \n",
       "3062         less_0             4  all_credits_paid_back     car_new   \n",
       "3080         less_0             4  all_credits_paid_back     car_new   \n",
       "3081         less_0             4  all_credits_paid_back     car_new   \n",
       "3140         less_0             4  all_credits_paid_back     car_new   \n",
       "3236         less_0             4  all_credits_paid_back     car_new   \n",
       "3248         less_0             4  all_credits_paid_back     car_new   \n",
       "3314         less_0             4             no_credits     car_new   \n",
       "3497         less_0             4  all_credits_paid_back     car_new   \n",
       "3870         less_0             4  all_credits_paid_back     car_new   \n",
       "4511         less_0             4  all_credits_paid_back     car_new   \n",
       "4735         less_0             4  all_credits_paid_back     car_new   \n",
       "\n",
       "      loanamount existingsavings employmentduration  installmentpercent  \\\n",
       "723          250        less_100         unemployed                   1   \n",
       "808          250        less_100         unemployed                   1   \n",
       "1854         250        less_100         unemployed                   1   \n",
       "1946         250        less_100         unemployed                   1   \n",
       "2119         250        less_100         unemployed                   1   \n",
       "2214         250        less_100         unemployed                   1   \n",
       "2933         250        less_100             less_1                   1   \n",
       "3062         250        less_100         unemployed                   1   \n",
       "3080         250        less_100         unemployed                   1   \n",
       "3081         250        less_100         unemployed                   1   \n",
       "3140         250        less_100         unemployed                   1   \n",
       "3236         250        less_100         unemployed                   1   \n",
       "3248         250        less_100         unemployed                   1   \n",
       "3314         250        less_100         unemployed                   1   \n",
       "3497         250        less_100         unemployed                   1   \n",
       "3870         250        less_100         unemployed                   1   \n",
       "4511         250        less_100         unemployed                   1   \n",
       "4735         250        less_100         unemployed                   1   \n",
       "\n",
       "         sex othersonloan  currentresidenceduration ownsproperty  age  \\\n",
       "723   female         none                         2  real_estate   19   \n",
       "808   female         none                         2  real_estate   19   \n",
       "1854    male         none                         2  real_estate   19   \n",
       "1946  female         none                         2  real_estate   19   \n",
       "2119  female         none                         2  real_estate   19   \n",
       "2214  female         none                         2  real_estate   19   \n",
       "2933  female         none                         1  real_estate   19   \n",
       "3062  female         none                         1  real_estate   19   \n",
       "3080    male         none                         1  real_estate   19   \n",
       "3081  female         none                         2  real_estate   19   \n",
       "3140    male         none                         1  real_estate   19   \n",
       "3236  female         none                         1  real_estate   19   \n",
       "3248    male         none                         2  real_estate   19   \n",
       "3314    male         none                         2  real_estate   19   \n",
       "3497  female         none                         1  real_estate   19   \n",
       "3870    male         none                         1  real_estate   19   \n",
       "4511    male         none                         1  real_estate   19   \n",
       "4735  female         none                         1  real_estate   19   \n",
       "\n",
       "     installmentplans housing  existingcreditscount        job  dependents  \\\n",
       "723              none    rent                     1    skilled           1   \n",
       "808              none    rent                     1    skilled           1   \n",
       "1854           stores    rent                     1    skilled           1   \n",
       "1946             none    rent                     1    skilled           1   \n",
       "2119             none    rent                     1    skilled           1   \n",
       "2214             none    rent                     1    skilled           1   \n",
       "2933             none    rent                     1    skilled           1   \n",
       "3062             none    rent                     1    skilled           1   \n",
       "3080           stores    rent                     1  unskilled           1   \n",
       "3081             none    rent                     1    skilled           1   \n",
       "3140           stores    rent                     1    skilled           1   \n",
       "3236             none    rent                     1    skilled           1   \n",
       "3248           stores    rent                     1    skilled           1   \n",
       "3314             none    rent                     1    skilled           1   \n",
       "3497             none    rent                     1    skilled           1   \n",
       "3870           stores    rent                     1    skilled           1   \n",
       "4511           stores    rent                     1    skilled           1   \n",
       "4735             none    rent                     1    skilled           1   \n",
       "\n",
       "     telephone foreignworker     risk  \n",
       "723       none           yes  No Risk  \n",
       "808       none           yes  No Risk  \n",
       "1854      none           yes  No Risk  \n",
       "1946      none           yes  No Risk  \n",
       "2119      none           yes  No Risk  \n",
       "2214      none           yes  No Risk  \n",
       "2933      none           yes  No Risk  \n",
       "3062      none           yes  No Risk  \n",
       "3080      none           yes  No Risk  \n",
       "3081      none           yes  No Risk  \n",
       "3140      none           yes  No Risk  \n",
       "3236      none           yes  No Risk  \n",
       "3248      none           yes  No Risk  \n",
       "3314      none           yes  No Risk  \n",
       "3497      none           yes  No Risk  \n",
       "3870      none           yes  No Risk  \n",
       "4511      none           yes  No Risk  \n",
       "4735      none           yes  No Risk  "
      ]
     },
     "execution_count": 93,
     "metadata": {},
     "output_type": "execute_result"
    }
   ],
   "source": [
    "df_duplic\n",
    "# results  = 18 duplicates"
   ]
  },
  {
   "cell_type": "markdown",
   "metadata": {},
   "source": [
    "### (2) From the data set provided whats the most job criteria there is ?"
   ]
  },
  {
   "cell_type": "code",
   "execution_count": 94,
   "metadata": {},
   "outputs": [
    {
     "data": {
      "text/plain": [
       "(array([0, 1, 2, 3]), <a list of 4 Text xticklabel objects>)"
      ]
     },
     "execution_count": 94,
     "metadata": {},
     "output_type": "execute_result"
    },
    {
     "data": {
      "image/png": "[encoded data removed]",
      "text/plain": [
       "<Figure size 432x288 with 1 Axes>"
      ]
     },
     "metadata": {
      "needs_background": "light"
     },
     "output_type": "display_data"
    }
   ],
   "source": [
    "# skilled ranks the highest in jobs\n",
    "sns.countplot(df.job)\n",
    "plt.xticks(rotation=45)"
   ]
  },
  {
   "cell_type": "markdown",
   "metadata": {},
   "source": [
    "### (3) What is the age difference between the youngest and oldest person that received a loan nd the age of those individuals."
   ]
  },
  {
   "cell_type": "code",
   "execution_count": 95,
   "metadata": {},
   "outputs": [
    {
     "data": {
      "text/plain": [
       "74"
      ]
     },
     "execution_count": 95,
     "metadata": {},
     "output_type": "execute_result"
    }
   ],
   "source": [
    "# oldest \n",
    "df['age'].max()"
   ]
  },
  {
   "cell_type": "code",
   "execution_count": 96,
   "metadata": {},
   "outputs": [
    {
     "data": {
      "text/plain": [
       "19"
      ]
     },
     "execution_count": 96,
     "metadata": {},
     "output_type": "execute_result"
    }
   ],
   "source": [
    "# youngest\n",
    "df['age'].min()"
   ]
  },
  {
   "cell_type": "code",
   "execution_count": 97,
   "metadata": {},
   "outputs": [
    {
     "data": {
      "text/plain": [
       "55"
      ]
     },
     "execution_count": 97,
     "metadata": {},
     "output_type": "execute_result"
    }
   ],
   "source": [
    "# age difference \n",
    "df['age'].max()  - df['age'].min()"
   ]
  },
  {
   "cell_type": "code",
   "execution_count": null,
   "metadata": {},
   "outputs": [],
   "source": []
  }
 ],
 "metadata": {
  "kernelspec": {
   "display_name": "Python 3",
   "language": "python",
   "name": "python3"
  },
  "language_info": {
   "codemirror_mode": {
    "name": "ipython",
    "version": 3
   },
   "file_extension": ".py",
   "mimetype": "text/x-python",
   "name": "python",
   "nbconvert_exporter": "python",
   "pygments_lexer": "ipython3",
   "version": "3.7.3"
  }
 },
 "nbformat": 4,
 "nbformat_minor": 2
}
